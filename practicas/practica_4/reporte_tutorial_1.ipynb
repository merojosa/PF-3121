{
 "cells": [
  {
   "cell_type": "markdown",
   "id": "bec0e0ec-ef6e-49d2-8f8e-bfdf7238736e",
   "metadata": {},
   "source": [
    "- Creo que la mayor confusión que tuve era el término \"input variables\". No tenía tan claro que era input variables de acuerdo a lo que habíamos visto, más que todo porque se tiende a usar los términos en español. El artículo no hizo una breve aclaración al inicio sobre qué era el término. Tuve que asumir que era algo similiar a las dimensiones hasta que el mismo autor explicó las diferencia entre dichos términos. Me da la sensación que esa diferencia tenía que haber estado al inicio del artículo para una mejor comprensión.\n",
    "- Pude entender la diferencia entre feature selection y dimensionality reduction. Entiendo por feature selection como a la decisión de remover o no un feature del dataset. Dimensionality reduction crea una nueva proyección de los datos resultando en nuevos input features.\n",
    "- Por último, más allá de los ejemplos que dan, lo importante que saco de esto es que no hay método de selección mejor, simplemente se tiene que probar una serie de opciones y valorar cuál queda mejor.\n",
    "- Lo único que importa es que el tipo de dato calce con los métodos. Sin embargo, incluso los datos se pueden transformar antes para hacerlos calzar en algún metodo mencionado. Al final y como siempre, probar a ver cuál método brinda mejores resultados acorde a las necesidades."
   ]
  },
  {
   "cell_type": "code",
   "execution_count": 1,
   "id": "b8044f44-7dd4-41ff-9484-f97cd8b58be2",
   "metadata": {},
   "outputs": [
    {
     "name": "stdout",
     "output_type": "stream",
     "text": [
      "(100, 10)\n"
     ]
    }
   ],
   "source": [
    "# pearson's correlation feature selection for numeric input and numeric output\n",
    "from sklearn.datasets import make_regression\n",
    "from sklearn.feature_selection import SelectKBest\n",
    "from sklearn.feature_selection import f_regression\n",
    "# generate dataset\n",
    "X, y = make_regression(n_samples=100, n_features=100, n_informative=10)\n",
    "# define feature selection\n",
    "fs = SelectKBest(score_func=f_regression, k=10)\n",
    "# apply feature selection\n",
    "X_selected = fs.fit_transform(X, y)\n",
    "print(X_selected.shape)"
   ]
  },
  {
   "cell_type": "code",
   "execution_count": 2,
   "id": "98690bea-a28a-4d17-b665-a5ce6d61c1fc",
   "metadata": {},
   "outputs": [
    {
     "name": "stdout",
     "output_type": "stream",
     "text": [
      "(100, 2)\n"
     ]
    }
   ],
   "source": [
    "# ANOVA feature selection for numeric input and categorical output\n",
    "from sklearn.datasets import make_classification\n",
    "from sklearn.feature_selection import SelectKBest\n",
    "from sklearn.feature_selection import f_classif\n",
    "# generate dataset\n",
    "X, y = make_classification(n_samples=100, n_features=20, n_informative=2)\n",
    "# define feature selection\n",
    "fs = SelectKBest(score_func=f_classif, k=2)\n",
    "# apply feature selection\n",
    "X_selected = fs.fit_transform(X, y)\n",
    "print(X_selected.shape)"
   ]
  },
  {
   "cell_type": "code",
   "execution_count": null,
   "id": "e3e61da9-647f-4137-aaa5-f1616540f7b3",
   "metadata": {},
   "outputs": [],
   "source": []
  }
 ],
 "metadata": {
  "kernelspec": {
   "display_name": "Python 3 (ipykernel)",
   "language": "python",
   "name": "python3"
  },
  "language_info": {
   "codemirror_mode": {
    "name": "ipython",
    "version": 3
   },
   "file_extension": ".py",
   "mimetype": "text/x-python",
   "name": "python",
   "nbconvert_exporter": "python",
   "pygments_lexer": "ipython3",
   "version": "3.9.7"
  }
 },
 "nbformat": 4,
 "nbformat_minor": 5
}
