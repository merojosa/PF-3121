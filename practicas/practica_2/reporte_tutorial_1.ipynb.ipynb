{
 "cells": [
  {
   "cell_type": "markdown",
   "id": "303af92d-db22-4e2c-9a97-8e1fc340fc96",
   "metadata": {},
   "source": [
    "# Comentarios del ejercicio\n",
    "Respecto a este tutorial en particular, debido a que trata sobre un framework para la preparación de datos para Machine learning, decidí separlo en dos secciones: \"¿Qué he aprendido?\" y \"Uso como profesional\"."
   ]
  },
  {
   "cell_type": "markdown",
   "id": "624a3f7e-75fe-4351-a431-01190091bfb3",
   "metadata": {},
   "source": [
    "## ¿Qué he aprendido?\n",
    "\n",
    "- Retos: Un reto importante de la preparación de datos es el \"convertir\" los datos crudos en datos en una mejor forma para un modelo predictivo, ya que los datos crudos pueden tener errores o estar incompletos. Sin embargo, otro aspecto a tomar en cuenta es que la preparación para obtener los datos con un buen rendimiento puede diferir dependiendo de las circunstancias e incluso puede alterar las expectativas del modelo usado.\n",
    "- Framework: El framework que plantea el autor se divide en tres niveles básico: preparación para filas, donde se termina si se agregan o no las files del dataset; columnas, donde se determinan las varibles del dataset; y valores, el cual consiste en las técnicas que pueden cambiar ciertos valores del dataset. Sin embargo, existen dos niveles: columnas-valores y filas-valores, donde cambian al mismo tiempo para hacer una adaptación. No me queda tan clara estas dos últimas y me gustaría conocer más al respecto.\n",
    "- Técnicas: Por cada nivel existen técnicas. Para las filas corresponde técnicas como SMOTE. Para columnas existen técnicas que usan estadísticas para definir la relevacia de variables y RFE. Respecto a valores, existen técnicas como discretization o binning change. Para columnas-valores existen técnicas como la factorización de matrices. Por último, para filas-valores existen algoritmos clustering."
   ]
  },
  {
   "cell_type": "markdown",
   "id": "b8e3794f-d453-48ee-a404-118d798af5ea",
   "metadata": {},
   "source": [
    "## Uso como profesional\n",
    "Cuando entre a un proyecto de ML, definitivamente tendré en cuenta el framework especialmente para datos crudos complicados. Por lo que podré ahondar más fácilmente para elegir técnicas que mejor convengan para una buena preparación de datos, que al fin y al cabo es lo más complicado de un proyecto de ML."
   ]
  }
 ],
 "metadata": {
  "kernelspec": {
   "display_name": "Python 3 (ipykernel)",
   "language": "python",
   "name": "python3"
  },
  "language_info": {
   "codemirror_mode": {
    "name": "ipython",
    "version": 3
   },
   "file_extension": ".py",
   "mimetype": "text/x-python",
   "name": "python",
   "nbconvert_exporter": "python",
   "pygments_lexer": "ipython3",
   "version": "3.9.7"
  }
 },
 "nbformat": 4,
 "nbformat_minor": 5
}
