{
 "cells": [
  {
   "cell_type": "markdown",
   "id": "2d8ecd7c-45e8-4fd9-b985-25cfad1685f7",
   "metadata": {
    "tags": []
   },
   "source": [
    "## Resumen del Tutorial\n",
    "\n",
    "Clustering consiste en automáticamente descubrir grupos en datos. Los algoritmos de clustering únicamente interpretan el input data y van a encontrar grupos naturales o clusters en feature spaces.\n",
    "\n",
    "En el tutorial se explicaron 10 algoritmos:\n",
    "\n",
    "- **Affinity Propagation:** Se basa en el concepto de pasar mensajes entre data points. Este intercambio se da hasta que se llega a un modelo de buena calidad y los correspondientes clusters empiezan a emerger.\n",
    "- **Agglomerative Clustering:** Consiste en mergear datos hasta que eventualmente el número deseado de clusters es alcanzado.\n",
    "- **BIRCH:** Consiste en construir un árbol donde los centroides son extraídos. Básicamente es un clustering jerárquico.\n",
    "- **DBSCAN:** Consiste en encontrar áreas de alta densidad en el dominio y expandir (o agrupar creo que es mejor el término) dichas áreas como clusters.\n",
    "- **K-Means:** Uno de los más conocidos, consiste en asignar los datos (no sé qué palabra usar en español, el tutorial usa examples) a k clusters, donde cada uno de esos datos va a pertenecer al cluster con la media más cercana.\n",
    "- **Mini-Batch K-Means:** Es una versión modificada de K-Means. Su objetivo es mejorar el rendimiento especialmente para grandes datasets.\n",
    "- **Mean Shift:** Consiste en encontrar y adaptar centroides basados en los datos (examples) en el dominio.\n",
    "- **OPTICS:** Es una versión modificada de DBSCAN. El algoritmo encuentra clusters basados en densidad. Una ventaja que tiene sobre DBSCAN es que puede detectar clusters significativos en datos con densidad variada.\n",
    "- **Spectral Clustering:** Bastado en álgebra lineal. Consiste en un usar spectral methods en clustering para reducir la dimensionalidad.\n",
    "- **Gaussian Mixture Model:** De todos los ejemplos, fue el que tuvo mejor resultado. Consiste en una combinación de múltiples distribuciones Gausianas."
   ]
  },
  {
   "cell_type": "markdown",
   "id": "dca6b243-d74f-4d67-bff4-b8d9b28a16a3",
   "metadata": {},
   "source": [
    "## Ejercicio\n",
    "\n",
    "Profesor, honestamente esta práctica sí tuve averiguar un poco más por mi propia cuenta, porque no tenía tan claro cómo manejar datos reales en lugar de sintéticos. Entonces tuve que buscar varios tutoriales para poder entender cómo manejar esos datos, y, por otro lado, visualizar los resultados. Sí quisiera adelantar desde ya que me cuesta un poco interpretar los datos (incluso en el tutorial que mandó), entonces no pude interpretar los resultados.\n",
    "\n",
    "Tutoriales con los que me basé:\n",
    "- https://programminghistorian.org/en/lessons/clustering-with-scikit-learn-in-python\n",
    "- https://www.geeksforgeeks.org/ml-optics-clustering-implementing-using-sklearn/\n",
    "- https://www.reneshbedre.com/blog/dbscan-python.html\n",
    "- https://towardsdatascience.com/dbscan-algorithm-complete-guide-and-application-with-python-scikit-learn-d690cbae4c5d"
   ]
  },
  {
   "cell_type": "markdown",
   "id": "a6e9cee0-608c-4a78-bbf9-f4ce7b0693e1",
   "metadata": {},
   "source": [
    "### Imports"
   ]
  },
  {
   "cell_type": "code",
   "execution_count": 1,
   "id": "91cc27c5-eb8b-4080-b55f-b650c4ad45d1",
   "metadata": {},
   "outputs": [],
   "source": [
    "import numpy as np\n",
    "from sklearn.cluster import OPTICS, DBSCAN, cluster_optics_dbscan\n",
    "from matplotlib import gridspec\n",
    "import matplotlib.pyplot as plt\n",
    "from sklearn.preprocessing import normalize, StandardScaler\n",
    "import pandas as pd"
   ]
  },
  {
   "cell_type": "markdown",
   "id": "c4ba560a-29e3-4a53-8279-665dbf8466a8",
   "metadata": {},
   "source": [
    "### Cargar datos"
   ]
  },
  {
   "cell_type": "code",
   "execution_count": 2,
   "id": "4fcbcd00-c747-40ee-9f00-e1c6810e2d19",
   "metadata": {},
   "outputs": [
    {
     "data": {
      "text/html": [
       "<div>\n",
       "<style scoped>\n",
       "    .dataframe tbody tr th:only-of-type {\n",
       "        vertical-align: middle;\n",
       "    }\n",
       "\n",
       "    .dataframe tbody tr th {\n",
       "        vertical-align: top;\n",
       "    }\n",
       "\n",
       "    .dataframe thead th {\n",
       "        text-align: right;\n",
       "    }\n",
       "</style>\n",
       "<table border=\"1\" class=\"dataframe\">\n",
       "  <thead>\n",
       "    <tr style=\"text-align: right;\">\n",
       "      <th></th>\n",
       "      <th>Alcohol</th>\n",
       "      <th>Malic_Acid</th>\n",
       "      <th>Ash</th>\n",
       "      <th>Ash_Alcanity</th>\n",
       "      <th>Magnesium</th>\n",
       "      <th>Total_Phenols</th>\n",
       "      <th>Flavanoids</th>\n",
       "      <th>Nonflavanoid_Phenols</th>\n",
       "      <th>Proanthocyanins</th>\n",
       "      <th>Color_Intensity</th>\n",
       "      <th>Hue</th>\n",
       "      <th>OD280</th>\n",
       "      <th>Proline</th>\n",
       "    </tr>\n",
       "  </thead>\n",
       "  <tbody>\n",
       "    <tr>\n",
       "      <th>0</th>\n",
       "      <td>14.23</td>\n",
       "      <td>1.71</td>\n",
       "      <td>2.43</td>\n",
       "      <td>15.6</td>\n",
       "      <td>127</td>\n",
       "      <td>2.80</td>\n",
       "      <td>3.06</td>\n",
       "      <td>0.28</td>\n",
       "      <td>2.29</td>\n",
       "      <td>5.64</td>\n",
       "      <td>1.04</td>\n",
       "      <td>3.92</td>\n",
       "      <td>1065</td>\n",
       "    </tr>\n",
       "    <tr>\n",
       "      <th>1</th>\n",
       "      <td>13.20</td>\n",
       "      <td>1.78</td>\n",
       "      <td>2.14</td>\n",
       "      <td>11.2</td>\n",
       "      <td>100</td>\n",
       "      <td>2.65</td>\n",
       "      <td>2.76</td>\n",
       "      <td>0.26</td>\n",
       "      <td>1.28</td>\n",
       "      <td>4.38</td>\n",
       "      <td>1.05</td>\n",
       "      <td>3.40</td>\n",
       "      <td>1050</td>\n",
       "    </tr>\n",
       "    <tr>\n",
       "      <th>2</th>\n",
       "      <td>13.16</td>\n",
       "      <td>2.36</td>\n",
       "      <td>2.67</td>\n",
       "      <td>18.6</td>\n",
       "      <td>101</td>\n",
       "      <td>2.80</td>\n",
       "      <td>3.24</td>\n",
       "      <td>0.30</td>\n",
       "      <td>2.81</td>\n",
       "      <td>5.68</td>\n",
       "      <td>1.03</td>\n",
       "      <td>3.17</td>\n",
       "      <td>1185</td>\n",
       "    </tr>\n",
       "    <tr>\n",
       "      <th>3</th>\n",
       "      <td>14.37</td>\n",
       "      <td>1.95</td>\n",
       "      <td>2.50</td>\n",
       "      <td>16.8</td>\n",
       "      <td>113</td>\n",
       "      <td>3.85</td>\n",
       "      <td>3.49</td>\n",
       "      <td>0.24</td>\n",
       "      <td>2.18</td>\n",
       "      <td>7.80</td>\n",
       "      <td>0.86</td>\n",
       "      <td>3.45</td>\n",
       "      <td>1480</td>\n",
       "    </tr>\n",
       "    <tr>\n",
       "      <th>4</th>\n",
       "      <td>13.24</td>\n",
       "      <td>2.59</td>\n",
       "      <td>2.87</td>\n",
       "      <td>21.0</td>\n",
       "      <td>118</td>\n",
       "      <td>2.80</td>\n",
       "      <td>2.69</td>\n",
       "      <td>0.39</td>\n",
       "      <td>1.82</td>\n",
       "      <td>4.32</td>\n",
       "      <td>1.04</td>\n",
       "      <td>2.93</td>\n",
       "      <td>735</td>\n",
       "    </tr>\n",
       "  </tbody>\n",
       "</table>\n",
       "</div>"
      ],
      "text/plain": [
       "   Alcohol  Malic_Acid   Ash  Ash_Alcanity  Magnesium  Total_Phenols  \\\n",
       "0    14.23        1.71  2.43          15.6        127           2.80   \n",
       "1    13.20        1.78  2.14          11.2        100           2.65   \n",
       "2    13.16        2.36  2.67          18.6        101           2.80   \n",
       "3    14.37        1.95  2.50          16.8        113           3.85   \n",
       "4    13.24        2.59  2.87          21.0        118           2.80   \n",
       "\n",
       "   Flavanoids  Nonflavanoid_Phenols  Proanthocyanins  Color_Intensity   Hue  \\\n",
       "0        3.06                  0.28             2.29             5.64  1.04   \n",
       "1        2.76                  0.26             1.28             4.38  1.05   \n",
       "2        3.24                  0.30             2.81             5.68  1.03   \n",
       "3        3.49                  0.24             2.18             7.80  0.86   \n",
       "4        2.69                  0.39             1.82             4.32  1.04   \n",
       "\n",
       "   OD280  Proline  \n",
       "0   3.92     1065  \n",
       "1   3.40     1050  \n",
       "2   3.17     1185  \n",
       "3   3.45     1480  \n",
       "4   2.93      735  "
      ]
     },
     "execution_count": 2,
     "metadata": {},
     "output_type": "execute_result"
    }
   ],
   "source": [
    "X = pd.read_csv('wine-clustering.csv')  \n",
    "X.head()"
   ]
  },
  {
   "cell_type": "markdown",
   "id": "5ac17907-7751-4014-90e8-c0ea6e0c0d0f",
   "metadata": {},
   "source": [
    "### Normalizar datos"
   ]
  },
  {
   "cell_type": "code",
   "execution_count": 3,
   "id": "f235ba4f-a7e3-4164-95b8-646ed8a0b453",
   "metadata": {},
   "outputs": [
    {
     "data": {
      "text/html": [
       "<div>\n",
       "<style scoped>\n",
       "    .dataframe tbody tr th:only-of-type {\n",
       "        vertical-align: middle;\n",
       "    }\n",
       "\n",
       "    .dataframe tbody tr th {\n",
       "        vertical-align: top;\n",
       "    }\n",
       "\n",
       "    .dataframe thead th {\n",
       "        text-align: right;\n",
       "    }\n",
       "</style>\n",
       "<table border=\"1\" class=\"dataframe\">\n",
       "  <thead>\n",
       "    <tr style=\"text-align: right;\">\n",
       "      <th></th>\n",
       "      <th>Alcohol</th>\n",
       "      <th>Malic_Acid</th>\n",
       "      <th>Ash</th>\n",
       "      <th>Ash_Alcanity</th>\n",
       "      <th>Magnesium</th>\n",
       "      <th>Total_Phenols</th>\n",
       "      <th>Flavanoids</th>\n",
       "      <th>Nonflavanoid_Phenols</th>\n",
       "      <th>Proanthocyanins</th>\n",
       "      <th>Color_Intensity</th>\n",
       "      <th>Hue</th>\n",
       "      <th>OD280</th>\n",
       "      <th>Proline</th>\n",
       "    </tr>\n",
       "  </thead>\n",
       "  <tbody>\n",
       "    <tr>\n",
       "      <th>0</th>\n",
       "      <td>0.379613</td>\n",
       "      <td>-0.140548</td>\n",
       "      <td>0.058007</td>\n",
       "      <td>-0.292368</td>\n",
       "      <td>0.478426</td>\n",
       "      <td>0.202228</td>\n",
       "      <td>0.258678</td>\n",
       "      <td>-0.164873</td>\n",
       "      <td>0.306189</td>\n",
       "      <td>0.062923</td>\n",
       "      <td>0.090535</td>\n",
       "      <td>0.461931</td>\n",
       "      <td>0.253226</td>\n",
       "    </tr>\n",
       "    <tr>\n",
       "      <th>1</th>\n",
       "      <td>0.072771</td>\n",
       "      <td>-0.147561</td>\n",
       "      <td>-0.244647</td>\n",
       "      <td>-0.735967</td>\n",
       "      <td>0.005361</td>\n",
       "      <td>0.168017</td>\n",
       "      <td>0.216764</td>\n",
       "      <td>-0.242497</td>\n",
       "      <td>-0.160948</td>\n",
       "      <td>-0.086667</td>\n",
       "      <td>0.119975</td>\n",
       "      <td>0.328989</td>\n",
       "      <td>0.285198</td>\n",
       "    </tr>\n",
       "    <tr>\n",
       "      <th>2</th>\n",
       "      <td>0.059268</td>\n",
       "      <td>0.006391</td>\n",
       "      <td>0.333952</td>\n",
       "      <td>-0.080900</td>\n",
       "      <td>0.026599</td>\n",
       "      <td>0.243539</td>\n",
       "      <td>0.365922</td>\n",
       "      <td>-0.150039</td>\n",
       "      <td>0.643007</td>\n",
       "      <td>0.080985</td>\n",
       "      <td>0.095822</td>\n",
       "      <td>0.237395</td>\n",
       "      <td>0.419993</td>\n",
       "    </tr>\n",
       "    <tr>\n",
       "      <th>3</th>\n",
       "      <td>0.348418</td>\n",
       "      <td>-0.071435</td>\n",
       "      <td>0.100501</td>\n",
       "      <td>-0.166686</td>\n",
       "      <td>0.191747</td>\n",
       "      <td>0.513178</td>\n",
       "      <td>0.302069</td>\n",
       "      <td>-0.202243</td>\n",
       "      <td>0.212599</td>\n",
       "      <td>0.244301</td>\n",
       "      <td>-0.088064</td>\n",
       "      <td>0.243890</td>\n",
       "      <td>0.480866</td>\n",
       "    </tr>\n",
       "    <tr>\n",
       "      <th>4</th>\n",
       "      <td>0.110835</td>\n",
       "      <td>0.085345</td>\n",
       "      <td>0.689824</td>\n",
       "      <td>0.169399</td>\n",
       "      <td>0.480516</td>\n",
       "      <td>0.303230</td>\n",
       "      <td>0.248639</td>\n",
       "      <td>0.085008</td>\n",
       "      <td>0.150455</td>\n",
       "      <td>-0.119672</td>\n",
       "      <td>0.135752</td>\n",
       "      <td>0.168520</td>\n",
       "      <td>-0.014196</td>\n",
       "    </tr>\n",
       "  </tbody>\n",
       "</table>\n",
       "</div>"
      ],
      "text/plain": [
       "    Alcohol  Malic_Acid       Ash  Ash_Alcanity  Magnesium  Total_Phenols  \\\n",
       "0  0.379613   -0.140548  0.058007     -0.292368   0.478426       0.202228   \n",
       "1  0.072771   -0.147561 -0.244647     -0.735967   0.005361       0.168017   \n",
       "2  0.059268    0.006391  0.333952     -0.080900   0.026599       0.243539   \n",
       "3  0.348418   -0.071435  0.100501     -0.166686   0.191747       0.513178   \n",
       "4  0.110835    0.085345  0.689824      0.169399   0.480516       0.303230   \n",
       "\n",
       "   Flavanoids  Nonflavanoid_Phenols  Proanthocyanins  Color_Intensity  \\\n",
       "0    0.258678             -0.164873         0.306189         0.062923   \n",
       "1    0.216764             -0.242497        -0.160948        -0.086667   \n",
       "2    0.365922             -0.150039         0.643007         0.080985   \n",
       "3    0.302069             -0.202243         0.212599         0.244301   \n",
       "4    0.248639              0.085008         0.150455        -0.119672   \n",
       "\n",
       "        Hue     OD280   Proline  \n",
       "0  0.090535  0.461931  0.253226  \n",
       "1  0.119975  0.328989  0.285198  \n",
       "2  0.095822  0.237395  0.419993  \n",
       "3 -0.088064  0.243890  0.480866  \n",
       "4  0.135752  0.168520 -0.014196  "
      ]
     },
     "execution_count": 3,
     "metadata": {},
     "output_type": "execute_result"
    }
   ],
   "source": [
    "# Normalizar datos para que sigan una distribucion Gaussiana\n",
    "scaler = StandardScaler()\n",
    "X_scaled = scaler.fit_transform(X)\n",
    "X_normalized = normalize(X_scaled)\n",
    "X_normalized = pd.DataFrame(X_normalized)\n",
    "X_normalized.columns = X.columns\n",
    "X_normalized.head()"
   ]
  },
  {
   "cell_type": "markdown",
   "id": "62b5d10a-1151-4bbb-a7d1-b1768cd1a3b2",
   "metadata": {},
   "source": [
    "### Modelos"
   ]
  },
  {
   "cell_type": "code",
   "execution_count": 4,
   "id": "1c28fa08-6f43-4686-933f-eb0ea94f4a15",
   "metadata": {},
   "outputs": [
    {
     "data": {
      "text/plain": [
       "OPTICS(min_cluster_size=0.05, min_samples=10)"
      ]
     },
     "execution_count": 4,
     "metadata": {},
     "output_type": "execute_result"
    }
   ],
   "source": [
    "# Entrenar modelo\n",
    "model = OPTICS(min_samples = 10, xi = 0.05, min_cluster_size = 0.05)\n",
    "model.fit(X_normalized)"
   ]
  },
  {
   "cell_type": "markdown",
   "id": "fa88afdb-6420-4f88-8e58-da915a4f1c10",
   "metadata": {},
   "source": [
    "### Labels"
   ]
  },
  {
   "cell_type": "code",
   "execution_count": 5,
   "id": "af9a21bf-0235-4fa5-bd20-8711b162a338",
   "metadata": {},
   "outputs": [
    {
     "name": "stdout",
     "output_type": "stream",
     "text": [
      "[ 0  0  0  0  0  0  0  0  0  0  0  0  0  0  0  0  0  0  0  0  0  0  0  0\n",
      "  0  0  0  0  0  0  0  0  0  0  0  0  0  0  0  0  0  0  0  0  0  0  0  0\n",
      "  0  0  0  0  0  0  0  0  0  0  0  0 -1 -1 -1  1  1  1  1  1  1  1  1  1\n",
      "  1  1  1  1  1  1  1  1  1  1  1  1  1  1  1  1  1  1  1  1  1  1  1  1\n",
      "  1  1  1  1  1  1  1  1  2  2  2  2  2  2  2  2  2  2  2  2  2  2  2  2\n",
      "  2  2  2  2  2  2  2  2  2  2  2  2  2  2  2  2  2  2  2  2  2  2  2  2\n",
      "  2  2  2  2  2  2  2  2  2  2  2  2 -1 -1 -1 -1 -1 -1 -1 -1 -1 -1 -1 -1\n",
      " -1 -1 -1 -1 -1 -1 -1 -1 -1 -1]\n"
     ]
    }
   ],
   "source": [
    "# DBSCAN eps = 0.5\n",
    "dbscan1_labels = cluster_optics_dbscan(reachability = model.reachability_,\n",
    "                                   core_distances = model.core_distances_,\n",
    "                                   ordering = model.ordering_, eps = 0.5)\n",
    "\n",
    "# DBSCAN eps = 2.0\n",
    "dbscan2_labels = cluster_optics_dbscan(reachability = model.reachability_,\n",
    "                                   core_distances = model.core_distances_,\n",
    "                                   ordering = model.ordering_, eps = 2)\n",
    "  \n",
    "# OPTICS\n",
    "labels = model.labels_[model.ordering_]\n",
    "  \n",
    "print(labels)"
   ]
  },
  {
   "cell_type": "markdown",
   "id": "59d826f6-e6f8-4ef6-8226-30b4b628586b",
   "metadata": {},
   "source": [
    "### Visualizar"
   ]
  },
  {
   "cell_type": "code",
   "execution_count": 6,
   "id": "2b512b49-8311-4847-aba4-a925469ff089",
   "metadata": {},
   "outputs": [
    {
     "data": {
      "image/png": "[encoded data removed]",
      "text/plain": [
       "<Figure size 720x504 with 3 Axes>"
      ]
     },
     "metadata": {
      "needs_background": "light"
     },
     "output_type": "display_data"
    }
   ],
   "source": [
    "# Framework\n",
    "plt.figure(figsize =(10, 7))\n",
    "G = gridspec.GridSpec(2, 3)\n",
    "ax1 = plt.subplot(G[1, 0])\n",
    "ax2 = plt.subplot(G[1, 1])\n",
    "ax3 = plt.subplot(G[1, 2])\n",
    "    \n",
    "# Plotting the OPTICS Clustering\n",
    "colors = ['c.', 'b.', 'r.', 'y.', 'g.']\n",
    "for Class, colour in zip(range(0, 5), colors):\n",
    "    Xk = X_normalized[model.labels_ == Class]\n",
    "    ax1.plot(Xk.iloc[:, 0], Xk.iloc[:, 1], colour, alpha = 0.3)\n",
    "      \n",
    "ax1.plot(X_normalized.iloc[model.labels_ == -1, 0],\n",
    "        X_normalized.iloc[model.labels_ == -1, 1],\n",
    "       'k+', alpha = 0.1)\n",
    "ax1.set_title('OPTICS')\n",
    "  \n",
    "# DBSCAN eps = 0.5 Plotting\n",
    "colors = ['c', 'b', 'r', 'y', 'g', 'greenyellow']\n",
    "for Class, colour in zip(range(0, 6), colors):\n",
    "    Xk = X_normalized[dbscan1_labels == Class]\n",
    "    ax2.plot(Xk.iloc[:, 0], Xk.iloc[:, 1], colour, alpha = 0.3, marker ='.')\n",
    "        \n",
    "ax2.plot(X_normalized.iloc[dbscan1_labels == -1, 0],\n",
    "        X_normalized.iloc[dbscan1_labels == -1, 1],\n",
    "       'k+', alpha = 0.1)\n",
    "ax2.set_title('DBSCAN eps=0.5')\n",
    "  \n",
    "# DBSCAN eps = 2.0 Plotting\n",
    "colors = ['c.', 'y.', 'm.', 'g.']\n",
    "for Class, colour in zip(range(0, 4), colors):\n",
    "    Xk = X_normalized.iloc[dbscan2_labels == Class]\n",
    "    ax3.plot(Xk.iloc[:, 0], Xk.iloc[:, 1], colour, alpha = 0.3)\n",
    "          \n",
    "ax3.plot(X_normalized.iloc[dbscan2_labels == -1, 0],\n",
    "        X_normalized.iloc[dbscan2_labels == -1, 1],\n",
    "       'k+', alpha = 0.1)\n",
    "ax3.set_title('DBSCAN eps=2.0')\n",
    "  \n",
    "  \n",
    "plt.tight_layout()\n",
    "plt.show()"
   ]
  },
  {
   "cell_type": "markdown",
   "id": "bfb7b7b2-4bab-4855-bfc3-0567fde9165e",
   "metadata": {},
   "source": [
    "## Resultados"
   ]
  },
  {
   "cell_type": "code",
   "execution_count": null,
   "id": "f5e83114-3fc4-480f-b20b-3b159875afe4",
   "metadata": {},
   "outputs": [],
   "source": []
  }
 ],
 "metadata": {
  "kernelspec": {
   "display_name": "Python 3 (ipykernel)",
   "language": "python",
   "name": "python3"
  },
  "language_info": {
   "codemirror_mode": {
    "name": "ipython",
    "version": 3
   },
   "file_extension": ".py",
   "mimetype": "text/x-python",
   "name": "python",
   "nbconvert_exporter": "python",
   "pygments_lexer": "ipython3",
   "version": "3.9.7"
  }
 },
 "nbformat": 4,
 "nbformat_minor": 5
}
