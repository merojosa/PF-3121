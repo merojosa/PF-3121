{
 "cells": [
  {
   "cell_type": "markdown",
   "id": "2d8ecd7c-45e8-4fd9-b985-25cfad1685f7",
   "metadata": {
    "tags": []
   },
   "source": [
    "## Resumen del Tutorial\n",
    "\n",
    "Clustering consiste en automáticamente descubrir grupos en datos. Los algoritmos de clustering únicamente interpretan el input data y van a encontrar grupos naturales o clusters en feature spaces.\n",
    "\n",
    "En el tutorial se explicaron 10 algoritmos:\n",
    "\n",
    "- **Affinity Propagation:** Se basa en el concepto de pasar mensajes entre data points. Este intercambio se da hasta que se llega a un modelo de buena calidad y los correspondientes clusters empiezan a emerger.\n",
    "- **Agglomerative Clustering:** Consiste en mergear datos hasta que eventualmente el número deseado de clusters es alcanzado.\n",
    "- **BIRCH:** Consiste en construir un árbol donde los centroides son extraídos. Básicamente es un clustering jerárquico.\n",
    "- **DBSCAN:** Consiste en encontrar áreas de alta densidad en el dominio y expandir (o agrupar creo que es mejor el término) dichas áreas como clusters.\n",
    "- **K-Means:** Uno de los más conocidos, consiste en asignar los datos (no sé qué palabra usar en español, el tutorial usa examples) a k clusters, donde cada uno de esos datos va a pertenecer al cluster con la media más cercana.\n",
    "- **Mini-Batch K-Means:** Es una versión modificada de K-Means. Su objetivo es mejorar el rendimiento especialmente para grandes datasets.\n",
    "- **Mean Shift:** Consiste en encontrar y adaptar centroides basados en los datos (examples) en el dominio.\n",
    "- **OPTICS:** Es una versión modificada de DBSCAN. El algoritmo encuentra clusters basados en densidad. Una ventaja que tiene sobre DBSCAN es que puede detectar clusters significativos en datos con densidad variada.\n",
    "- **Spectral Clustering:** Bastado en álgebra lineal. Consiste en un usar spectral methods en clustering para reducir la dimensionalidad.\n",
    "- **Gaussian Mixture Model:** De todos los ejemplos, fue el que tuvo mejor resultado. Consiste en una combinación de múltiples distribuciones Gausianas."
   ]
  },
  {
   "cell_type": "code",
   "execution_count": null,
   "id": "2e67e55a-579e-4f88-b6ed-69f03c7dc8df",
   "metadata": {},
   "outputs": [],
   "source": []
  }
 ],
 "metadata": {
  "kernelspec": {
   "display_name": "Python 3 (ipykernel)",
   "language": "python",
   "name": "python3"
  },
  "language_info": {
   "codemirror_mode": {
    "name": "ipython",
    "version": 3
   },
   "file_extension": ".py",
   "mimetype": "text/x-python",
   "name": "python",
   "nbconvert_exporter": "python",
   "pygments_lexer": "ipython3",
   "version": "3.9.7"
  }
 },
 "nbformat": 4,
 "nbformat_minor": 5
}
