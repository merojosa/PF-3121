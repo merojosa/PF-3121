{
 "cells": [
  {
   "cell_type": "markdown",
   "metadata": {
    "colab_type": "text",
    "id": "6KtBWGmfxTtE"
   },
   "source": [
    "# Geographic Data with Basemap"
   ]
  },
  {
   "cell_type": "markdown",
   "metadata": {
    "colab_type": "text",
    "id": "hH8KG1gCxTtG"
   },
   "source": [
    "One common type of visualization in data science is that of geographic data.\n",
    "Matplotlib's main tool for this type of visualization is the Basemap toolkit, which is one of several Matplotlib toolkits which lives under the ``mpl_toolkits`` namespace.\n",
    "Admittedly, Basemap feels a bit clunky to use, and often even simple visualizations take much longer to render than you might hope.\n",
    "More modern solutions such as leaflet or the Google Maps API may be a better choice for more intensive map visualizations.\n",
    "Still, Basemap is a useful tool for Python users to have in their virtual toolbelts.\n",
    "In this section, we'll show several examples of the type of map visualization that is possible with this toolkit.\n",
    "\n",
    "First, we have to install some packages to be able to run the Basemap toolkit."
   ]
  },
  {
   "cell_type": "code",
   "execution_count": null,
   "metadata": {
    "colab": {},
    "colab_type": "code",
    "id": "s869q6c_xcUg"
   },
   "outputs": [],
   "source": [
    "!apt-get install libgeos-3.6.2\n",
    "!apt-get install libgeos-dev"
   ]
  },
  {
   "cell_type": "code",
   "execution_count": null,
   "metadata": {
    "colab": {},
    "colab_type": "code",
    "id": "DLfbPTa2C3xk"
   },
   "outputs": [],
   "source": [
    "!pip install pyproj==1.9.6"
   ]
  },
  {
   "cell_type": "markdown",
   "metadata": {
    "colab_type": "text",
    "id": "HR2IjeNgMviA"
   },
   "source": [
    "After running the installation of the Basemap toolkit below, the system will ask you to restart the runtime environment. Restart the environment and continue with importing numpy, matplotlib, and the mpl_toolkit."
   ]
  },
  {
   "cell_type": "code",
   "execution_count": null,
   "metadata": {
    "colab": {},
    "colab_type": "code",
    "id": "LMQVLMz7CDVD"
   },
   "outputs": [],
   "source": [
    "!pip install https://github.com/matplotlib/basemap/archive/master.zip"
   ]
  },
  {
   "cell_type": "code",
   "execution_count": null,
   "metadata": {
    "colab": {},
    "colab_type": "code",
    "id": "bJRJ-nvRxTtI"
   },
   "outputs": [],
   "source": [
    "%matplotlib inline\n",
    "import numpy as np\n",
    "import matplotlib.pyplot as plt\n",
    "from mpl_toolkits.basemap import Basemap"
   ]
  },
  {
   "cell_type": "markdown",
   "metadata": {
    "colab_type": "text",
    "id": "5zY4RnAWxTtP"
   },
   "source": [
    "Once you have the Basemap toolkit installed and imported, geographic plots are just a few lines away (the graphics in the following also requires the ``PIL`` package in Python 2, or the ``pillow`` package in Python 3):"
   ]
  },
  {
   "cell_type": "code",
   "execution_count": null,
   "metadata": {
    "colab": {},
    "colab_type": "code",
    "id": "vnGHsFVCxTtP"
   },
   "outputs": [],
   "source": [
    "plt.figure(figsize=(8, 8))\n",
    "m = Basemap(projection='ortho', resolution=None, lat_0=50, lon_0=-100)\n",
    "m.bluemarble(scale=0.5);"
   ]
  },
  {
   "cell_type": "markdown",
   "metadata": {
    "colab_type": "text",
    "id": "MNQweHb1xTta"
   },
   "source": [
    "The meaning of the arguments to ``Basemap`` will be discussed momentarily.\n",
    "\n",
    "The useful thing is that the globe shown here is not a mere image; it is a fully-functioning Matplotlib axes that understands spherical coordinates and which allows us to easily overplot data on the map!\n",
    "For example, we can use a different map projection, zoom-in to North America and plot the location of Seattle.\n",
    "We'll use an etopo image (which shows topographical features both on land and under the ocean) as the map background:"
   ]
  },
  {
   "cell_type": "code",
   "execution_count": null,
   "metadata": {
    "colab": {},
    "colab_type": "code",
    "id": "qOfEt0JRxTtb"
   },
   "outputs": [],
   "source": [
    "fig = plt.figure(figsize=(8, 8))\n",
    "m = Basemap(projection='lcc', resolution=None,\n",
    "            width=8E6, height=8E6, \n",
    "            lat_0=45, lon_0=-100,)\n",
    "m.etopo(scale=0.5, alpha=0.5)\n",
    "\n",
    "# Map (long, lat) to (x, y) for plotting\n",
    "x, y = m(-122.3, 47.6)\n",
    "plt.plot(x, y, 'ok', markersize=5)\n",
    "plt.text(x, y, ' Seattle', fontsize=12);"
   ]
  },
  {
   "cell_type": "markdown",
   "metadata": {
    "colab_type": "text",
    "id": "khhYz6gSxTti"
   },
   "source": [
    "This gives you a brief glimpse into the sort of geographic visualizations that are possible with just a few lines of Python.\n",
    "We'll now discuss the features of Basemap in more depth, and provide several examples of visualizing map data.\n",
    "Using these brief examples as building blocks, you should be able to create nearly any map visualization that you desire."
   ]
  },
  {
   "cell_type": "markdown",
   "metadata": {
    "colab_type": "text",
    "id": "PGui3y6wxTtk"
   },
   "source": [
    "## Map Projections\n",
    "\n",
    "The first thing to decide when using maps is what projection to use.\n",
    "You're probably familiar with the fact that it is impossible to project a spherical map, such as that of the Earth, onto a flat surface without somehow distorting it or breaking its continuity.\n",
    "These projections have been developed over the course of human history, and there are a lot of choices!\n",
    "Depending on the intended use of the map projection, there are certain map features (e.g., direction, area, distance, shape, or other considerations) that are useful to maintain.\n",
    "\n",
    "The Basemap package implements several dozen such projections, all referenced by a short format code.\n",
    "Here we'll briefly demonstrate some of the more common ones.\n",
    "\n",
    "We'll start by defining a convenience routine to draw our world map along with the longitude and latitude lines:"
   ]
  },
  {
   "cell_type": "code",
   "execution_count": null,
   "metadata": {
    "colab": {},
    "colab_type": "code",
    "id": "TeCNbxIsxTtm"
   },
   "outputs": [],
   "source": [
    "from itertools import chain\n",
    "\n",
    "def draw_map(m, scale=0.2):\n",
    "    # draw a shaded-relief image\n",
    "    m.shadedrelief(scale=scale)\n",
    "    \n",
    "    # lats and longs are returned as a dictionary\n",
    "    lats = m.drawparallels(np.linspace(-90, 90, 13))\n",
    "    lons = m.drawmeridians(np.linspace(-180, 180, 13))\n",
    "\n",
    "    # keys contain the plt.Line2D instances\n",
    "    lat_lines = chain(*(tup[1][0] for tup in lats.items()))\n",
    "    lon_lines = chain(*(tup[1][0] for tup in lons.items()))\n",
    "    all_lines = chain(lat_lines, lon_lines)\n",
    "    \n",
    "    # cycle through these lines and set the desired style\n",
    "    for line in all_lines:\n",
    "        line.set(linestyle='-', alpha=0.3, color='w')"
   ]
  },
  {
   "cell_type": "markdown",
   "metadata": {
    "colab_type": "text",
    "id": "GhxBe417xTtq"
   },
   "source": [
    "### Cylindrical projections\n",
    "\n",
    "The simplest of map projections are cylindrical projections, in which lines of constant latitude and longitude are mapped to horizontal and vertical lines, respectively.\n",
    "This type of mapping represents equatorial regions quite well, but results in extreme distortions near the poles.\n",
    "The spacing of latitude lines varies between different cylindrical projections, leading to different conservation properties, and different distortion near the poles.\n",
    "In the following figure we show an example of the *equidistant cylindrical projection*, which chooses a latitude scaling that preserves distances along meridians.\n",
    "Other cylindrical projections are the Mercator (``projection='merc'``) and the cylindrical equal area (``projection='cea'``) projections."
   ]
  },
  {
   "cell_type": "code",
   "execution_count": null,
   "metadata": {
    "colab": {},
    "colab_type": "code",
    "id": "YgLHTXw1xTtu"
   },
   "outputs": [],
   "source": [
    "fig = plt.figure(figsize=(8, 6), edgecolor='w')\n",
    "m = Basemap(projection='cyl', resolution=None,\n",
    "            llcrnrlat=-90, urcrnrlat=90,\n",
    "            llcrnrlon=-180, urcrnrlon=180, )\n",
    "draw_map(m)"
   ]
  },
  {
   "cell_type": "markdown",
   "metadata": {
    "colab_type": "text",
    "id": "SnqaUm-3xTt1"
   },
   "source": [
    "The additional arguments to Basemap for this view specify the latitude (``lat``) and longitude (``lon``) of the lower-left corner (``llcrnr``) and upper-right corner (``urcrnr``) for the desired map, in units of degrees."
   ]
  },
  {
   "cell_type": "markdown",
   "metadata": {
    "colab_type": "text",
    "id": "ip4rUGU3xTt2"
   },
   "source": [
    "### Pseudo-cylindrical projections\n",
    "\n",
    "Pseudo-cylindrical projections relax the requirement that meridians (lines of constant longitude) remain vertical; this can give better properties near the poles of the projection.\n",
    "The Mollweide projection (``projection='moll'``) is one common example of this, in which all meridians are elliptical arcs.\n",
    "It is constructed so as to preserve area across the map: though there are distortions near the poles, the area of small patches reflects the true area.\n",
    "Other pseudo-cylindrical projections are the sinusoidal (``projection='sinu'``) and Robinson (``projection='robin'``) projections."
   ]
  },
  {
   "cell_type": "code",
   "execution_count": null,
   "metadata": {
    "colab": {},
    "colab_type": "code",
    "id": "J8owV06UxTt6"
   },
   "outputs": [],
   "source": [
    "fig = plt.figure(figsize=(8, 6), edgecolor='w')\n",
    "m = Basemap(projection='moll', resolution=None,\n",
    "            lat_0=0, lon_0=0)\n",
    "draw_map(m)"
   ]
  },
  {
   "cell_type": "markdown",
   "metadata": {
    "colab_type": "text",
    "id": "Jg24DNmUxTuA"
   },
   "source": [
    "The extra arguments to Basemap here refer to the central latitude (``lat_0``) and longitude (``lon_0``) for the desired map."
   ]
  },
  {
   "cell_type": "markdown",
   "metadata": {
    "colab_type": "text",
    "id": "zoW2mV4sxTuD"
   },
   "source": [
    "### Perspective projections\n",
    "\n",
    "Perspective projections are constructed using a particular choice of perspective point, similar to if you photographed the Earth from a particular point in space (a point which, for some projections, technically lies within the Earth!).\n",
    "One common example is the orthographic projection (``projection='ortho'``), which shows one side of the globe as seen from a viewer at a very long distance. As such, it can show only half the globe at a time.\n",
    "Other perspective-based projections include the gnomonic projection (``projection='gnom'``) and stereographic projection (``projection='stere'``).\n",
    "These are often the most useful for showing small portions of the map.\n",
    "\n",
    "Here is an example of the orthographic projection:"
   ]
  },
  {
   "cell_type": "code",
   "execution_count": null,
   "metadata": {
    "colab": {},
    "colab_type": "code",
    "id": "driEF4JtxTuF"
   },
   "outputs": [],
   "source": [
    "fig = plt.figure(figsize=(8, 8))\n",
    "m = Basemap(projection='ortho', resolution=None,\n",
    "            lat_0=50, lon_0=0)\n",
    "draw_map(m);"
   ]
  },
  {
   "cell_type": "markdown",
   "metadata": {
    "colab_type": "text",
    "id": "X5t9gV6lxTuN"
   },
   "source": [
    "### Conic projections\n",
    "\n",
    "A Conic projection projects the map onto a single cone, which is then unrolled.\n",
    "This can lead to very good local properties, but regions far from the focus point of the cone may become very distorted.\n",
    "One example of this is the Lambert Conformal Conic projection (``projection='lcc'``), which we saw earlier in the map of North America.\n",
    "It projects the map onto a cone arranged in such a way that two standard parallels (specified in Basemap by ``lat_1`` and ``lat_2``) have well-represented distances, with scale decreasing between them and increasing outside of them.\n",
    "Other useful conic projections are the equidistant conic projection (``projection='eqdc'``) and the Albers equal-area projection (``projection='aea'``).\n",
    "Conic projections, like perspective projections, tend to be good choices for representing small to medium patches of the globe."
   ]
  },
  {
   "cell_type": "code",
   "execution_count": null,
   "metadata": {
    "colab": {},
    "colab_type": "code",
    "id": "_fcVBK9BxTuQ"
   },
   "outputs": [],
   "source": [
    "fig = plt.figure(figsize=(8, 8))\n",
    "m = Basemap(projection='lcc', resolution=None,\n",
    "            lon_0=0, lat_0=50, lat_1=45, lat_2=55,\n",
    "            width=1.6E7, height=1.2E7)\n",
    "draw_map(m)"
   ]
  },
  {
   "cell_type": "markdown",
   "metadata": {
    "colab_type": "text",
    "id": "yAreglPKxTua"
   },
   "source": [
    "### Other projections\n",
    "\n",
    "If you're going to do much with map-based visualizations, I encourage you to read up on other available projections, along with their properties, advantages, and disadvantages.\n",
    "Most likely, they are available in the [Basemap package](http://matplotlib.org/basemap/users/mapsetup.html).\n",
    "If you dig deep enough into this topic, you'll find an incredible subculture of geo-viz geeks who will be ready to argue fervently in support of their favorite projection for any given application! "
   ]
  },
  {
   "cell_type": "markdown",
   "metadata": {
    "colab_type": "text",
    "id": "vR0g5SUhxTud"
   },
   "source": [
    "## Drawing a Map Background\n",
    "\n",
    "Earlier we saw the ``bluemarble()`` and ``shadedrelief()`` methods for projecting global images on the map, as well as the ``drawparallels()`` and ``drawmeridians()`` methods for drawing lines of constant latitude and longitude.\n",
    "The Basemap package contains a range of useful functions for drawing borders of physical features like continents, oceans, lakes, and rivers, as well as political boundaries such as countries and US states and counties.\n",
    "The following are some of the available drawing functions that you may wish to explore using IPython's help features:\n",
    "\n",
    "- **Physical boundaries and bodies of water**\n",
    "  - ``drawcoastlines()``: Draw continental coast lines\n",
    "  - ``drawlsmask()``: Draw a mask between the land and sea, for use with projecting images on one or the other\n",
    "  - ``drawmapboundary()``: Draw the map boundary, including the fill color for oceans.\n",
    "  - ``drawrivers()``: Draw rivers on the map\n",
    "  - ``fillcontinents()``: Fill the continents with a given color; optionally fill lakes with another color\n",
    "\n",
    "- **Political boundaries**\n",
    "  - ``drawcountries()``: Draw country boundaries\n",
    "  - ``drawstates()``: Draw US state boundaries\n",
    "  - ``drawcounties()``: Draw US county boundaries\n",
    "\n",
    "- **Map features**\n",
    "  - ``drawgreatcircle()``: Draw a great circle between two points\n",
    "  - ``drawparallels()``: Draw lines of constant latitude\n",
    "  - ``drawmeridians()``: Draw lines of constant longitude\n",
    "  - ``drawmapscale()``: Draw a linear scale on the map\n",
    "\n",
    "- **Whole-globe images**\n",
    "  - ``bluemarble()``: Project NASA's blue marble image onto the map\n",
    "  - ``shadedrelief()``: Project a shaded relief image onto the map\n",
    "  - ``etopo()``: Draw an etopo relief image onto the map\n",
    "  - ``warpimage()``: Project a user-provided image onto the map\n",
    "\n",
    "For the boundary-based features, you must set the desired resolution when creating a Basemap image.\n",
    "The ``resolution`` argument of the ``Basemap`` class sets the level of detail in boundaries, either ``'c'`` (crude), ``'l'`` (low), ``'i'`` (intermediate), ``'h'`` (high), ``'f'`` (full), or ``None`` if no boundaries will be used.\n",
    "This choice is important: setting high-resolution boundaries on a global map, for example, can be *very* slow.\n",
    "\n",
    "Here's an example of drawing land/sea boundaries, and the effect of the resolution parameter.\n",
    "We'll create both a low- and high-resolution map of Scotland's beautiful Isle of Skye.\n",
    "It's located at 57.3°N, 6.2°W, and a map of 90,000 × 120,000 kilometers shows it well:"
   ]
  },
  {
   "cell_type": "code",
   "execution_count": null,
   "metadata": {
    "colab": {},
    "colab_type": "code",
    "id": "1HdwiP18xTuf"
   },
   "outputs": [],
   "source": [
    "fig, ax = plt.subplots(1, 2, figsize=(12, 8))\n",
    "\n",
    "for i, res in enumerate(['l', 'h']):\n",
    "    m = Basemap(projection='gnom', lat_0=57.3, lon_0=-6.2,\n",
    "                width=90000, height=120000, resolution=res, ax=ax[i])\n",
    "    m.fillcontinents(color=\"#FFDDCC\", lake_color='#DDEEFF')\n",
    "    m.drawmapboundary(fill_color=\"#DDEEFF\")\n",
    "    m.drawcoastlines()\n",
    "    ax[i].set_title(\"resolution='{0}'\".format(res));"
   ]
  },
  {
   "cell_type": "markdown",
   "metadata": {
    "colab_type": "text",
    "id": "hKxb_Z2KxTun"
   },
   "source": [
    "Notice that the low-resolution coastlines are not suitable for this level of zoom, while high-resolution works just fine.\n",
    "The low level would work just fine for a global view, however, and would be *much* faster than loading the high-resolution border data for the entire globe!\n",
    "It might require some experimentation to find the correct resolution parameter for a given view: the best route is to start with a fast, low-resolution plot and increase the resolution as needed."
   ]
  },
  {
   "cell_type": "markdown",
   "metadata": {
    "colab_type": "text",
    "id": "1iEu0802xTup"
   },
   "source": [
    "## Plotting Data on Maps\n",
    "\n",
    "Perhaps the most useful piece of the Basemap toolkit is the ability to over-plot a variety of data onto a map background.\n",
    "For simple plotting and text, any ``plt`` function works on the map; you can use the ``Basemap`` instance to project latitude and longitude coordinates to ``(x, y)`` coordinates for plotting with ``plt``, as we saw earlier in the Seattle example.\n",
    "\n",
    "In addition to this, there are many map-specific functions available as methods of the ``Basemap`` instance.\n",
    "These work very similarly to their standard Matplotlib counterparts, but have an additional Boolean argument ``latlon``, which if set to ``True`` allows you to pass raw latitudes and longitudes to the method, rather than projected ``(x, y)`` coordinates.\n",
    "\n",
    "Some of these map-specific methods are:\n",
    "\n",
    "- ``contour()``/``contourf()`` : Draw contour lines or filled contours\n",
    "- ``imshow()``: Draw an image\n",
    "- ``pcolor()``/``pcolormesh()`` : Draw a pseudocolor plot for irregular/regular meshes\n",
    "- ``plot()``: Draw lines and/or markers.\n",
    "- ``scatter()``: Draw points with markers.\n",
    "- ``quiver()``: Draw vectors.\n",
    "- ``barbs()``: Draw wind barbs.\n",
    "- ``drawgreatcircle()``: Draw a great circle.\n",
    "\n",
    "We'll see some examples of a few of these as we continue.\n",
    "For more information on these functions, including several example plots, see the [online Basemap documentation](http://matplotlib.org/basemap/)."
   ]
  },
  {
   "cell_type": "markdown",
   "metadata": {
    "colab_type": "text",
    "id": "Q6RfXFcyxTur"
   },
   "source": [
    "## Example: California Cities\n",
    "\n",
    "First we need to upload the file california_cities.csv.\n",
    "\n"
   ]
  },
  {
   "cell_type": "code",
   "execution_count": null,
   "metadata": {
    "colab": {},
    "colab_type": "code",
    "id": "ktCSYmW-Kh90"
   },
   "outputs": [],
   "source": [
    "from google.colab import files\n",
    "uploaded = files.upload()"
   ]
  },
  {
   "cell_type": "markdown",
   "metadata": {
    "colab_type": "text",
    "id": "RvdiV9QYK0_f"
   },
   "source": [
    "Now we are ready to import the data into a data structure."
   ]
  },
  {
   "cell_type": "code",
   "execution_count": null,
   "metadata": {
    "colab": {},
    "colab_type": "code",
    "id": "mUY_H5m5xTuv"
   },
   "outputs": [],
   "source": [
    "import pandas as pd\n",
    "cities = pd.read_csv('california_cities.csv')\n",
    "\n",
    "# Extract the data we're interested in\n",
    "lat = cities['latd'].values\n",
    "lon = cities['longd'].values\n",
    "population = cities['population_total'].values\n",
    "area = cities['area_total_km2'].values"
   ]
  },
  {
   "cell_type": "markdown",
   "metadata": {
    "colab_type": "text",
    "id": "92OxOtJhxTu4"
   },
   "source": [
    "Next, we set up the map projection, scatter the data, and then create a colorbar and legend:"
   ]
  },
  {
   "cell_type": "code",
   "execution_count": null,
   "metadata": {
    "colab": {},
    "colab_type": "code",
    "id": "WyIuvyScxTu5"
   },
   "outputs": [],
   "source": [
    "# 1. Draw the map background\n",
    "fig = plt.figure(figsize=(8, 8))\n",
    "m = Basemap(projection='lcc', resolution='h', \n",
    "            lat_0=37.5, lon_0=-119,\n",
    "            width=1E6, height=1.2E6)\n",
    "m.shadedrelief()\n",
    "m.drawcoastlines(color='gray')\n",
    "m.drawcountries(color='gray')\n",
    "m.drawstates(color='gray')\n",
    "\n",
    "# 2. scatter city data, with color reflecting population\n",
    "# and size reflecting area\n",
    "m.scatter(lon, lat, latlon=True,\n",
    "          c=np.log10(population), s=area,\n",
    "          cmap='Reds', alpha=0.5)\n",
    "\n",
    "# 3. create colorbar and legend\n",
    "plt.colorbar(label=r'$\\log_{10}({\\rm population})$')\n",
    "plt.clim(3, 7)\n",
    "\n",
    "# make legend with dummy points\n",
    "for a in [100, 300, 500]:\n",
    "    plt.scatter([], [], c='k', alpha=0.5, s=a,\n",
    "                label=str(a) + ' km$^2$')\n",
    "plt.legend(scatterpoints=1, frameon=False,\n",
    "           labelspacing=1, loc='lower left');"
   ]
  },
  {
   "cell_type": "markdown",
   "metadata": {
    "colab_type": "text",
    "id": "CxEc9SYixTvA"
   },
   "source": [
    "This shows us roughly where larger populations of people have settled in California: they are clustered near the coast in the Los Angeles and San Francisco areas, stretched along the highways in the flat central valley, and avoiding almost completely the mountainous regions along the borders of the state."
   ]
  }
 ],
 "metadata": {
  "colab": {
   "collapsed_sections": [],
   "name": "Copy of 04.13-Geographic-Data-With-Basemap.ipynb",
   "provenance": [],
   "version": "0.3.2"
  },
  "kernelspec": {
   "display_name": "Python 3",
   "language": "python",
   "name": "python3"
  },
  "language_info": {
   "codemirror_mode": {
    "name": "ipython",
    "version": 3
   },
   "file_extension": ".py",
   "mimetype": "text/x-python",
   "name": "python",
   "nbconvert_exporter": "python",
   "pygments_lexer": "ipython3",
   "version": "3.8.6"
  }
 },
 "nbformat": 4,
 "nbformat_minor": 4
}
