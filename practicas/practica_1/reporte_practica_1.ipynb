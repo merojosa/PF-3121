{
 "cells": [
  {
   "cell_type": "markdown",
   "id": "2a090720-1084-4313-9625-9b55efa07b13",
   "metadata": {},
   "source": [
    "## Reporte python_basic_1\n",
    "\n",
    "Respecto a cuestiones que no sabía sobre Python, creo que más que todo no tengo tan claro buenas prácticas para escribir código. Por lo que el tip \"Use xrange instead of range when simply iterating a procedure N times (iterator instead of actual list built in memory)\" es nuevo para mí.\n",
    "\n",
    "En general, me sorprende la facilidad con la que se pueden realizar datos con Python. En lo personal había usado Python para cuestiones de redes únicamente. Incluso se pueden desplegar gráficos más complejos como los boxplots. Con el llamado a un método y configurando con unos parámetros basta para poder desplegar cualquier gráfico. Por supuesto teniendo un data set para analizar.\n",
    "\n",
    "La definición de funciones era una concepto ya sabido. Sin embargo, pese a saber de la existencia de funciones lambda en otros lenguajes, en Python las desconocía por completo. Por último, desconocía los list comprehensions, me parece sumamente útiles y prácticos. Además de ser inmutable, lo cual siempre es bueno para tener una programación funcional."
   ]
  },
  {
   "cell_type": "code",
   "execution_count": null,
   "id": "78cb42b5-e866-4936-bd4e-e90983669614",
   "metadata": {},
   "outputs": [],
   "source": []
  }
 ],
 "metadata": {
  "kernelspec": {
   "display_name": "Python 3 (ipykernel)",
   "language": "python",
   "name": "python3"
  },
  "language_info": {
   "codemirror_mode": {
    "name": "ipython",
    "version": 3
   },
   "file_extension": ".py",
   "mimetype": "text/x-python",
   "name": "python",
   "nbconvert_exporter": "python",
   "pygments_lexer": "ipython3",
   "version": "3.9.7"
  }
 },
 "nbformat": 4,
 "nbformat_minor": 5
}
