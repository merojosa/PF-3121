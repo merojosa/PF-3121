{
 "cells": [
  {
   "cell_type": "markdown",
   "id": "2a090720-1084-4313-9625-9b55efa07b13",
   "metadata": {},
   "source": [
    "## Reporte python_basic_1\n",
    "\n",
    "Respecto a cuestiones que no sabía sobre Python, creo que más que todo no tengo tan claro buenas prácticas para escribir código. Por lo que el tip \"Use xrange instead of range when simply iterating a procedure N times (iterator instead of actual list built in memory)\" es nuevo para mí.\n",
    "\n",
    "En general, me sorprende la facilidad con la que se pueden realizar datos con Python. En lo personal había usado Python para cuestiones de redes únicamente. Incluso se pueden desplegar gráficos más complejos como los boxplots. Con el llamado a un método y configurando con unos parámetros basta para poder desplegar cualquier gráfico. Por supuesto teniendo un data set para analizar.\n",
    "\n",
    "La definición de funciones era una concepto ya sabido. Sin embargo, pese a saber de la existencia de funciones lambda en otros lenguajes, en Python las desconocía por completo. Por último, desconocía los list comprehensions, me parece sumamente útiles y prácticos. Además de ser inmutable, lo cual siempre es bueno para tener una programación funcional."
   ]
  },
  {
   "cell_type": "markdown",
   "id": "40631863-a6d8-496c-b5d9-bcabe934673b",
   "metadata": {},
   "source": [
    "# Reporte python_basic_2\n",
    "Honestamente nunca pensé que se pudiesen hacer cálculos relativamente rápidos con Python. La librería NumPy definitivamente va a ser súper útil, más que todo por ser sumamente sencillo de usar en comparación con lenguajes de bajo nivel.\n",
    "\n",
    "Respecto a la generación de arrays con números aleatorios, no veo con qué se puede usar para el scientific computing.\n",
    "\n",
    "La función flatten me parece sumamente útil.\n",
    "\n",
    "El operador dat[lower:upper:step] no lo conocía al 100%, tenía conocimiento de lower:upper, pero el tercer argumento no lo conocía.\n",
    "\n",
    "Y nuevamente, el despliegue de charts es sencillo, basta con tener un dataset bien formateado."
   ]
  },
  {
   "cell_type": "markdown",
   "id": "c513cc08-95c9-47f7-9637-81cb54928374",
   "metadata": {},
   "source": [
    "# Reporte python_charts\n",
    "La variedad de opciones para configurar los gráficos es increíble.\n",
    "\n",
    "Un dato que no imaginaba es que el plot es más eficiente que el scatter cuando el dataset empieza a ser más grande.\n",
    "\n",
    "Creo que algo bien útil de estas librerías puede ser para tratar de entender los datasets. Entender la naturaleza de los datos puede facilitar el análisis de los mismos. Por lo que crear rápida y eficientemente charts es sumamente ventajoso.\n",
    "\n",
    "El ejemplo Handwritten Digits me hizo entender la gama de posibilidades que se tiene para hacer análisis de cosas de la vida real. Definitivamente voy a estar haciendo cosas por mi propia cuenta para explorar más la herramienta."
   ]
  }
 ],
 "metadata": {
  "kernelspec": {
   "display_name": "Python 3 (ipykernel)",
   "language": "python",
   "name": "python3"
  },
  "language_info": {
   "codemirror_mode": {
    "name": "ipython",
    "version": 3
   },
   "file_extension": ".py",
   "mimetype": "text/x-python",
   "name": "python",
   "nbconvert_exporter": "python",
   "pygments_lexer": "ipython3",
   "version": "3.9.7"
  }
 },
 "nbformat": 4,
 "nbformat_minor": 5
}
