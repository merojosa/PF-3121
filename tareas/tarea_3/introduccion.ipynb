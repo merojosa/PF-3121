{
 "cells": [
  {
   "cell_type": "markdown",
   "id": "b940af48-601d-495f-a944-faad5ed836cf",
   "metadata": {},
   "source": [
    "## 1. Descripción y justificación\n",
    "\n",
    "Este es un problema de clasificación. El data set consiste en predecir si una persona en Estados Unidos generan más o menos de $50000. El problema planteado es detectar qué variables pueden determinar los ingresos anuales de personas estadounidense.\n",
    "\n",
    "El problema se divide en dos puntos:\n",
    "\n",
    "1. Detectar qué features son relevantes para determinar si una persona genera más o menos de $50000. Esto se puede averiguar, por ejemplo, descartando columnas con poca varianza.\n",
    "\n",
    "2. Implementar un modelo que, cuando se ingrese una tupla de datos de un ciudadano arbitrario, detecte si ingresa más o menos de $50000. Con este modelo se podría intuitivamente identificar qué factores pueden estar causando desigualdad en Estados Unidos."
   ]
  },
  {
   "cell_type": "markdown",
   "id": "6aca9c1e-f846-4b67-95b6-82e5c85bdd40",
   "metadata": {},
   "source": [
    "## 2. Exploración e interpretación\n",
    "\n",
    "La mayoría de columnas se pueden entender perfectamente. Sin embargo, \"fnlwgt\" podría malinterpretarse. \"fnlwgt\" significa \"final weight\". Sin entrar en mucho detalle, esta columna se usa para hacer una clasificación dependiendo de características socioeconómicas. Eso quiere decir que personas con  mismas características demográficas tienen un peso similar."
   ]
  },
  {
   "cell_type": "code",
   "execution_count": 1,
   "id": "b58e0a0f-4aa6-41f9-ae2f-fd7bde109579",
   "metadata": {},
   "outputs": [
    {
     "data": {
      "text/html": [
       "<div>\n",
       "<style scoped>\n",
       "    .dataframe tbody tr th:only-of-type {\n",
       "        vertical-align: middle;\n",
       "    }\n",
       "\n",
       "    .dataframe tbody tr th {\n",
       "        vertical-align: top;\n",
       "    }\n",
       "\n",
       "    .dataframe thead th {\n",
       "        text-align: right;\n",
       "    }\n",
       "</style>\n",
       "<table border=\"1\" class=\"dataframe\">\n",
       "  <thead>\n",
       "    <tr style=\"text-align: right;\">\n",
       "      <th></th>\n",
       "      <th>age</th>\n",
       "      <th>workclass</th>\n",
       "      <th>fnlwgt</th>\n",
       "      <th>education</th>\n",
       "      <th>education-num</th>\n",
       "      <th>marital-status</th>\n",
       "      <th>occupation</th>\n",
       "      <th>relationship</th>\n",
       "      <th>race</th>\n",
       "      <th>sex</th>\n",
       "      <th>capital-gain</th>\n",
       "      <th>capital-loss</th>\n",
       "      <th>hours-per-week</th>\n",
       "      <th>native-country</th>\n",
       "      <th>class</th>\n",
       "    </tr>\n",
       "  </thead>\n",
       "  <tbody>\n",
       "    <tr>\n",
       "      <th>0</th>\n",
       "      <td>39</td>\n",
       "      <td>State-gov</td>\n",
       "      <td>77516</td>\n",
       "      <td>Bachelors</td>\n",
       "      <td>13</td>\n",
       "      <td>Never-married</td>\n",
       "      <td>Adm-clerical</td>\n",
       "      <td>Not-in-family</td>\n",
       "      <td>White</td>\n",
       "      <td>Male</td>\n",
       "      <td>2174</td>\n",
       "      <td>0</td>\n",
       "      <td>40</td>\n",
       "      <td>United-States</td>\n",
       "      <td>&lt;=50K</td>\n",
       "    </tr>\n",
       "    <tr>\n",
       "      <th>1</th>\n",
       "      <td>50</td>\n",
       "      <td>Self-emp-not-inc</td>\n",
       "      <td>83311</td>\n",
       "      <td>Bachelors</td>\n",
       "      <td>13</td>\n",
       "      <td>Married-civ-spouse</td>\n",
       "      <td>Exec-managerial</td>\n",
       "      <td>Husband</td>\n",
       "      <td>White</td>\n",
       "      <td>Male</td>\n",
       "      <td>0</td>\n",
       "      <td>0</td>\n",
       "      <td>13</td>\n",
       "      <td>United-States</td>\n",
       "      <td>&lt;=50K</td>\n",
       "    </tr>\n",
       "    <tr>\n",
       "      <th>2</th>\n",
       "      <td>38</td>\n",
       "      <td>Private</td>\n",
       "      <td>215646</td>\n",
       "      <td>HS-grad</td>\n",
       "      <td>9</td>\n",
       "      <td>Divorced</td>\n",
       "      <td>Handlers-cleaners</td>\n",
       "      <td>Not-in-family</td>\n",
       "      <td>White</td>\n",
       "      <td>Male</td>\n",
       "      <td>0</td>\n",
       "      <td>0</td>\n",
       "      <td>40</td>\n",
       "      <td>United-States</td>\n",
       "      <td>&lt;=50K</td>\n",
       "    </tr>\n",
       "    <tr>\n",
       "      <th>3</th>\n",
       "      <td>53</td>\n",
       "      <td>Private</td>\n",
       "      <td>234721</td>\n",
       "      <td>11th</td>\n",
       "      <td>7</td>\n",
       "      <td>Married-civ-spouse</td>\n",
       "      <td>Handlers-cleaners</td>\n",
       "      <td>Husband</td>\n",
       "      <td>Black</td>\n",
       "      <td>Male</td>\n",
       "      <td>0</td>\n",
       "      <td>0</td>\n",
       "      <td>40</td>\n",
       "      <td>United-States</td>\n",
       "      <td>&lt;=50K</td>\n",
       "    </tr>\n",
       "    <tr>\n",
       "      <th>4</th>\n",
       "      <td>28</td>\n",
       "      <td>Private</td>\n",
       "      <td>338409</td>\n",
       "      <td>Bachelors</td>\n",
       "      <td>13</td>\n",
       "      <td>Married-civ-spouse</td>\n",
       "      <td>Prof-specialty</td>\n",
       "      <td>Wife</td>\n",
       "      <td>Black</td>\n",
       "      <td>Female</td>\n",
       "      <td>0</td>\n",
       "      <td>0</td>\n",
       "      <td>40</td>\n",
       "      <td>Cuba</td>\n",
       "      <td>&lt;=50K</td>\n",
       "    </tr>\n",
       "  </tbody>\n",
       "</table>\n",
       "</div>"
      ],
      "text/plain": [
       "   age          workclass  fnlwgt   education  education-num  \\\n",
       "0   39          State-gov   77516   Bachelors             13   \n",
       "1   50   Self-emp-not-inc   83311   Bachelors             13   \n",
       "2   38            Private  215646     HS-grad              9   \n",
       "3   53            Private  234721        11th              7   \n",
       "4   28            Private  338409   Bachelors             13   \n",
       "\n",
       "        marital-status          occupation    relationship    race      sex  \\\n",
       "0        Never-married        Adm-clerical   Not-in-family   White     Male   \n",
       "1   Married-civ-spouse     Exec-managerial         Husband   White     Male   \n",
       "2             Divorced   Handlers-cleaners   Not-in-family   White     Male   \n",
       "3   Married-civ-spouse   Handlers-cleaners         Husband   Black     Male   \n",
       "4   Married-civ-spouse      Prof-specialty            Wife   Black   Female   \n",
       "\n",
       "   capital-gain  capital-loss  hours-per-week  native-country   class  \n",
       "0          2174             0              40   United-States   <=50K  \n",
       "1             0             0              13   United-States   <=50K  \n",
       "2             0             0              40   United-States   <=50K  \n",
       "3             0             0              40   United-States   <=50K  \n",
       "4             0             0              40            Cuba   <=50K  "
      ]
     },
     "execution_count": 1,
     "metadata": {},
     "output_type": "execute_result"
    }
   ],
   "source": [
    "import pandas as pd\n",
    "\n",
    "PREDICTORS = [\"age\", \"workclass\", \"fnlwgt\", \"education\", \"education-num\", \"marital-status\", \n",
    "                                        \"occupation\", \"relationship\", \"race\", \"sex\", \"capital-gain\",\n",
    "                                        \"capital-loss\", \"hours-per-week\", \"native-country\"]\n",
    "PREDICTORS_STRING = [\"workclass\", \"education\", \"marital-status\", \"occupation\", \"relationship\", \"race\", \"sex\", \"native-country\"]\n",
    "PREDICTORS_INT = [\"age\", \"fnlwgt\", \"capital-gain\", \"capital-loss\", \"hours-per-week\"]\n",
    "TARGET_VARIABLE = \"class\"\n",
    "\n",
    "data = pd.read_csv('adult.data', names=[\"age\", \"workclass\", \"fnlwgt\", \"education\", \"education-num\", \"marital-status\", \n",
    "                                        \"occupation\", \"relationship\", \"race\", \"sex\", \"capital-gain\",\n",
    "                                        \"capital-loss\", \"hours-per-week\", \"native-country\", \"class\"])\n",
    "data.head()"
   ]
  },
  {
   "cell_type": "code",
   "execution_count": 2,
   "id": "acf4627e-09c9-4073-bb84-5493e6715603",
   "metadata": {},
   "outputs": [
    {
     "name": "stdout",
     "output_type": "stream",
     "text": [
      "<class 'pandas.core.frame.DataFrame'>\n",
      "RangeIndex: 10000 entries, 0 to 9999\n",
      "Data columns (total 15 columns):\n",
      " #   Column          Non-Null Count  Dtype \n",
      "---  ------          --------------  ----- \n",
      " 0   age             10000 non-null  int64 \n",
      " 1   workclass       10000 non-null  object\n",
      " 2   fnlwgt          10000 non-null  int64 \n",
      " 3   education       10000 non-null  object\n",
      " 4   education-num   10000 non-null  int64 \n",
      " 5   marital-status  10000 non-null  object\n",
      " 6   occupation      10000 non-null  object\n",
      " 7   relationship    10000 non-null  object\n",
      " 8   race            10000 non-null  object\n",
      " 9   sex             10000 non-null  object\n",
      " 10  capital-gain    10000 non-null  int64 \n",
      " 11  capital-loss    10000 non-null  int64 \n",
      " 12  hours-per-week  10000 non-null  int64 \n",
      " 13  native-country  10000 non-null  object\n",
      " 14  class           10000 non-null  object\n",
      "dtypes: int64(6), object(9)\n",
      "memory usage: 1.1+ MB\n"
     ]
    }
   ],
   "source": [
    "data.info()"
   ]
  },
  {
   "cell_type": "markdown",
   "id": "526e8d2e-5362-4fee-82ca-45e8d615e3d8",
   "metadata": {},
   "source": [
    "### Imprimir valores únicos"
   ]
  },
  {
   "cell_type": "code",
   "execution_count": 3,
   "id": "5a72ab5b-d584-4d75-9499-c3de29f487c5",
   "metadata": {},
   "outputs": [
    {
     "name": "stdout",
     "output_type": "stream",
     "text": [
      "age                 71\n",
      "workclass            9\n",
      "fnlwgt            8507\n",
      "education           16\n",
      "education-num       16\n",
      "marital-status       7\n",
      "occupation          15\n",
      "relationship         6\n",
      "race                 5\n",
      "sex                  2\n",
      "capital-gain       102\n",
      "capital-loss        73\n",
      "hours-per-week      83\n",
      "native-country      41\n",
      "class                2\n",
      "dtype: int64\n"
     ]
    }
   ],
   "source": [
    "print(data.nunique())"
   ]
  },
  {
   "cell_type": "markdown",
   "id": "ace34272-6787-4462-8dfb-de4a01fb3ec8",
   "metadata": {},
   "source": [
    "### Obtener duplicados"
   ]
  },
  {
   "cell_type": "code",
   "execution_count": 4,
   "id": "b78c4053-0643-44dd-9f32-0dcde4cbd929",
   "metadata": {},
   "outputs": [
    {
     "name": "stdout",
     "output_type": "stream",
     "text": [
      "      age workclass  fnlwgt      education  education-num  marital-status  \\\n",
      "4881   25   Private  308144      Bachelors             13   Never-married   \n",
      "5104   90   Private   52386   Some-college             10   Never-married   \n",
      "9171   21   Private  250051   Some-college             10   Never-married   \n",
      "\n",
      "           occupation    relationship                 race      sex  \\\n",
      "4881     Craft-repair   Not-in-family                White     Male   \n",
      "5104    Other-service   Not-in-family   Asian-Pac-Islander     Male   \n",
      "9171   Prof-specialty       Own-child                White   Female   \n",
      "\n",
      "      capital-gain  capital-loss  hours-per-week  native-country   class  \n",
      "4881             0             0              40          Mexico   <=50K  \n",
      "5104             0             0              35   United-States   <=50K  \n",
      "9171             0             0              10   United-States   <=50K  \n"
     ]
    }
   ],
   "source": [
    "duplicates = data.duplicated()\n",
    "print(data[duplicates])"
   ]
  },
  {
   "cell_type": "markdown",
   "id": "8624abe9-88bf-4746-b811-64b7a3973744",
   "metadata": {},
   "source": [
    "## 3. Datos"
   ]
  },
  {
   "cell_type": "markdown",
   "id": "1cb1b377-7aa3-45d6-a672-6d8a4a1c0fea",
   "metadata": {},
   "source": [
    "### Modularizar conversión de datos string a enteros"
   ]
  },
  {
   "cell_type": "code",
   "execution_count": 5,
   "id": "3139326c-008b-4011-b1d6-9f7230626e18",
   "metadata": {},
   "outputs": [],
   "source": [
    "def from_string_to_int(key, data_set):\n",
    "    data_set[key],class_names = pd.factorize(data_set[key])\n",
    "    return class_names"
   ]
  },
  {
   "cell_type": "markdown",
   "id": "157bca99-a366-45e1-a66e-7f039600e40d",
   "metadata": {},
   "source": [
    "### Target a string"
   ]
  },
  {
   "cell_type": "code",
   "execution_count": 6,
   "id": "bd98529b-a998-4588-a7d1-a234c98856f9",
   "metadata": {},
   "outputs": [
    {
     "name": "stdout",
     "output_type": "stream",
     "text": [
      "Index([' <=50K', ' >50K'], dtype='object')\n",
      "[0 1]\n"
     ]
    }
   ],
   "source": [
    "class_names = from_string_to_int(TARGET_VARIABLE, data)\n",
    "print(class_names)\n",
    "print(data[TARGET_VARIABLE].unique())"
   ]
  },
  {
   "cell_type": "markdown",
   "id": "482165d1-4866-48f1-83b6-37ccc5395185",
   "metadata": {},
   "source": [
    "### Demás atributos a string"
   ]
  },
  {
   "cell_type": "code",
   "execution_count": 7,
   "id": "c368c112-0d9c-45e4-9726-7abbaa47142f",
   "metadata": {},
   "outputs": [
    {
     "name": "stdout",
     "output_type": "stream",
     "text": [
      "<class 'pandas.core.frame.DataFrame'>\n",
      "RangeIndex: 10000 entries, 0 to 9999\n",
      "Data columns (total 15 columns):\n",
      " #   Column          Non-Null Count  Dtype\n",
      "---  ------          --------------  -----\n",
      " 0   age             10000 non-null  int64\n",
      " 1   workclass       10000 non-null  int64\n",
      " 2   fnlwgt          10000 non-null  int64\n",
      " 3   education       10000 non-null  int64\n",
      " 4   education-num   10000 non-null  int64\n",
      " 5   marital-status  10000 non-null  int64\n",
      " 6   occupation      10000 non-null  int64\n",
      " 7   relationship    10000 non-null  int64\n",
      " 8   race            10000 non-null  int64\n",
      " 9   sex             10000 non-null  int64\n",
      " 10  capital-gain    10000 non-null  int64\n",
      " 11  capital-loss    10000 non-null  int64\n",
      " 12  hours-per-week  10000 non-null  int64\n",
      " 13  native-country  10000 non-null  int64\n",
      " 14  class           10000 non-null  int64\n",
      "dtypes: int64(15)\n",
      "memory usage: 1.1 MB\n"
     ]
    }
   ],
   "source": [
    "for predictor in PREDICTORS_STRING:\n",
    "    from_string_to_int(predictor, data)\n",
    "\n",
    "data.info()"
   ]
  },
  {
   "cell_type": "markdown",
   "id": "541f4126-43e6-4db6-8e30-d8eaa4327261",
   "metadata": {},
   "source": [
    "### Remover filas duplicadas (si existen)\n",
    "Se remueven por recomendación de Jason Brownlee. Ya que, en general, no es necesario tener filas duplicadas."
   ]
  },
  {
   "cell_type": "code",
   "execution_count": 8,
   "id": "e7898ef2-7f1f-45cf-9111-45c22c7dd1f1",
   "metadata": {},
   "outputs": [
    {
     "name": "stdout",
     "output_type": "stream",
     "text": [
      "(10000, 15)\n",
      "(9997, 15)\n"
     ]
    }
   ],
   "source": [
    "print(data.shape)\n",
    "data.drop_duplicates(inplace=True)\n",
    "print(data.shape)"
   ]
  },
  {
   "cell_type": "markdown",
   "id": "9583c6ba-d77b-4506-8dbf-d068549b966a",
   "metadata": {},
   "source": [
    "### Remover columnas únicas (si existen)"
   ]
  },
  {
   "cell_type": "code",
   "execution_count": 9,
   "id": "63552270-4fec-4b1a-8110-48f9ebdd058d",
   "metadata": {},
   "outputs": [
    {
     "name": "stdout",
     "output_type": "stream",
     "text": [
      "(9997, 15)\n",
      "[]\n",
      "(9997, 15)\n"
     ]
    }
   ],
   "source": [
    "print(data.shape)\n",
    "counts = data.nunique()\n",
    "to_del = [i for i,v in enumerate(counts) if v == 1]\n",
    "print(to_del)\n",
    "data.drop(to_del, axis=1, inplace=True)\n",
    "print(data.shape)"
   ]
  },
  {
   "cell_type": "code",
   "execution_count": null,
   "id": "e80c5540-11c3-4ff7-b031-2c56c3e70f7d",
   "metadata": {},
   "outputs": [],
   "source": []
  }
 ],
 "metadata": {
  "kernelspec": {
   "display_name": "Python 3 (ipykernel)",
   "language": "python",
   "name": "python3"
  },
  "language_info": {
   "codemirror_mode": {
    "name": "ipython",
    "version": 3
   },
   "file_extension": ".py",
   "mimetype": "text/x-python",
   "name": "python",
   "nbconvert_exporter": "python",
   "pygments_lexer": "ipython3",
   "version": "3.9.7"
  }
 },
 "nbformat": 4,
 "nbformat_minor": 5
}
