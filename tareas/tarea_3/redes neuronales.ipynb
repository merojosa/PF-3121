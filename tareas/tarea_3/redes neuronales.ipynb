{
 "cells": [
  {
   "cell_type": "markdown",
   "id": "cc8f0755-906f-48d3-b9b4-2c89825dbc2f",
   "metadata": {},
   "source": [
    "### Preparación de datos (ya visto en el archivo anterior)"
   ]
  },
  {
   "cell_type": "code",
   "execution_count": 1,
   "id": "de0de322-b662-4db2-8234-a1c1673a4f34",
   "metadata": {},
   "outputs": [],
   "source": [
    "import pandas as pd\n",
    "\n",
    "def from_string_to_int(key, data_set):\n",
    "    data_set[key],class_names = pd.factorize(data_set[key])\n",
    "    return class_names\n",
    "\n",
    "PREDICTORS = [\"age\", \"workclass\", \"fnlwgt\", \"education\", \"education-num\", \"marital-status\", \n",
    "                                        \"occupation\", \"relationship\", \"race\", \"sex\", \"capital-gain\",\n",
    "                                        \"capital-loss\", \"hours-per-week\", \"native-country\"]\n",
    "PREDICTORS_STRING = [\"workclass\", \"education\", \"marital-status\", \"occupation\", \"relationship\", \"race\", \"sex\", \"native-country\"]\n",
    "PREDICTORS_INT = [\"age\", \"fnlwgt\", \"capital-gain\", \"capital-loss\", \"hours-per-week\"]\n",
    "TARGET_VARIABLE = \"class\"\n",
    "\n",
    "data = pd.read_csv('adult.data', names=[\"age\", \"workclass\", \"fnlwgt\", \"education\", \"education-num\", \"marital-status\", \n",
    "                                        \"occupation\", \"relationship\", \"race\", \"sex\", \"capital-gain\",\n",
    "                                        \"capital-loss\", \"hours-per-week\", \"native-country\", \"class\"])\n",
    "\n",
    "from_string_to_int(TARGET_VARIABLE, data)\n",
    "\n",
    "for predictor in PREDICTORS_STRING:\n",
    "    from_string_to_int(predictor, data)\n",
    "    \n",
    "data.drop_duplicates(inplace=True)"
   ]
  },
  {
   "cell_type": "markdown",
   "id": "c54fc9df-3c7c-4394-af7b-f0171e692485",
   "metadata": {},
   "source": [
    "### Preparación de arquitecturas"
   ]
  },
  {
   "cell_type": "code",
   "execution_count": 2,
   "id": "4c105ddc-53e5-4de6-97e9-0c26966d6907",
   "metadata": {},
   "outputs": [],
   "source": [
    "X = data.iloc[:,:-1]\n",
    "y = data.iloc[:,-1]\n",
    "\n",
    "\n",
    "def print_5_cases(X, y, predictions):\n",
    "    for i in range(5):\n",
    "        print(X.iloc)\n",
    "        print('%s => %d (expected %d)' % (X.iloc[i].tolist(), predictions[i], y.iloc[i]))"
   ]
  },
  {
   "cell_type": "markdown",
   "id": "e39f9669-a777-4e57-b91e-e43ebc7a8e22",
   "metadata": {},
   "source": [
    "### Arquitectura 1"
   ]
  },
  {
   "cell_type": "code",
   "execution_count": 3,
   "id": "e65ada21-ba73-446c-8ed5-3a274c912156",
   "metadata": {},
   "outputs": [
    {
     "name": "stdout",
     "output_type": "stream",
     "text": [
      "313/313 [==============================] - 0s 510us/step\n",
      "<pandas.core.indexing._iLocIndexer object at 0x00000270D2E18D60>\n",
      "[39, 0, 77516, 0, 13, 0, 0, 0, 0, 0, 2174, 0, 40, 0] => 0 (expected 0)\n",
      "<pandas.core.indexing._iLocIndexer object at 0x00000270D2E18360>\n",
      "[50, 1, 83311, 0, 13, 1, 1, 1, 0, 0, 0, 0, 13, 0] => 0 (expected 0)\n",
      "<pandas.core.indexing._iLocIndexer object at 0x00000270D2E18D60>\n",
      "[38, 2, 215646, 1, 9, 2, 2, 0, 0, 0, 0, 0, 40, 0] => 0 (expected 0)\n",
      "<pandas.core.indexing._iLocIndexer object at 0x00000270D2E18360>\n",
      "[53, 2, 234721, 2, 7, 1, 2, 1, 1, 0, 0, 0, 40, 0] => 0 (expected 0)\n",
      "<pandas.core.indexing._iLocIndexer object at 0x00000270D2E18D60>\n",
      "[28, 2, 338409, 0, 13, 1, 3, 2, 1, 1, 0, 0, 40, 1] => 0 (expected 0)\n"
     ]
    }
   ],
   "source": [
    "from numpy import loadtxt\n",
    "from keras.models import Sequential\n",
    "from keras.layers import Dense\n",
    "\n",
    "def build_model1():\n",
    "    # define the keras model\n",
    "    model1 = Sequential()\n",
    "    model1.add(Dense(12, input_dim=14, activation='relu'))\n",
    "    model1.add(Dense(8, activation='relu'))\n",
    "    model1.add(Dense(1, activation='sigmoid'))\n",
    "    # compile the keras model\n",
    "    model1.compile(loss='binary_crossentropy', optimizer='adam', metrics=['accuracy'])\n",
    "    return model1\n",
    "\n",
    "model1 = build_model1()\n",
    "# fit the keras model on the dataset\n",
    "model1.fit(X, y, epochs=150, batch_size=10, verbose=0)\n",
    "# make class predictions with the model\n",
    "predictions_1 = (model1.predict(X) > 0.5).astype(int)\n",
    "# summarize the first 5 cases\n",
    "print_5_cases(X, y, predictions_1)"
   ]
  },
  {
   "cell_type": "markdown",
   "id": "f6109d18-48d4-4665-8c2e-58c8e2a6e9da",
   "metadata": {},
   "source": [
    "### Arquitectura 2"
   ]
  },
  {
   "cell_type": "code",
   "execution_count": 4,
   "id": "0904d6a2-8bff-4b61-a4c5-15aa00e97db7",
   "metadata": {},
   "outputs": [
    {
     "name": "stdout",
     "output_type": "stream",
     "text": [
      "313/313 [==============================] - 0s 510us/step\n",
      "<pandas.core.indexing._iLocIndexer object at 0x00000270D1D94DB0>\n",
      "[39, 0, 77516, 0, 13, 0, 0, 0, 0, 0, 2174, 0, 40, 0] => 0 (expected 0)\n",
      "<pandas.core.indexing._iLocIndexer object at 0x00000270D1D94DB0>\n",
      "[50, 1, 83311, 0, 13, 1, 1, 1, 0, 0, 0, 0, 13, 0] => 0 (expected 0)\n",
      "<pandas.core.indexing._iLocIndexer object at 0x00000270D1D94DB0>\n",
      "[38, 2, 215646, 1, 9, 2, 2, 0, 0, 0, 0, 0, 40, 0] => 0 (expected 0)\n",
      "<pandas.core.indexing._iLocIndexer object at 0x00000270D1D94DB0>\n",
      "[53, 2, 234721, 2, 7, 1, 2, 1, 1, 0, 0, 0, 40, 0] => 0 (expected 0)\n",
      "<pandas.core.indexing._iLocIndexer object at 0x00000270D1D94DB0>\n",
      "[28, 2, 338409, 0, 13, 1, 3, 2, 1, 1, 0, 0, 40, 1] => 0 (expected 0)\n"
     ]
    }
   ],
   "source": [
    "def build_model2():\n",
    "    model2 = Sequential()\n",
    "    model2.add(Dense(12, input_dim=14, activation='relu'))\n",
    "    model2.add(Dense(16, activation=\"softmax\"))\n",
    "    model2.add(Dense(20, activation=\"softsign\"))\n",
    "    model2.add(Dense(1, activation='sigmoid'))\n",
    "    # compile the keras model\n",
    "    model2.compile(loss='binary_crossentropy', optimizer='adam', metrics=['accuracy'])\n",
    "    return model2\n",
    "\n",
    "model2 = build_model2()\n",
    "# fit the keras model on the dataset\n",
    "model2.fit(X, y, epochs=150, batch_size=10, verbose=0)\n",
    "# make class predictions with the model\n",
    "predictions_2 = (model2.predict(X) > 0.5).astype(int)\n",
    "# summarize the first 5 cases\n",
    "print_5_cases(X, y, predictions_2)"
   ]
  },
  {
   "cell_type": "markdown",
   "id": "ff42a0da-1828-41ed-81cd-bf087dfa3690",
   "metadata": {},
   "source": [
    "### Arquitectura 3"
   ]
  },
  {
   "cell_type": "code",
   "execution_count": 5,
   "id": "111d3f9e-f563-4642-85cd-a447733c9d12",
   "metadata": {},
   "outputs": [
    {
     "name": "stdout",
     "output_type": "stream",
     "text": [
      "313/313 [==============================] - 0s 523us/step\n",
      "<pandas.core.indexing._iLocIndexer object at 0x00000270CFBC1900>\n",
      "[39, 0, 77516, 0, 13, 0, 0, 0, 0, 0, 2174, 0, 40, 0] => 0 (expected 0)\n",
      "<pandas.core.indexing._iLocIndexer object at 0x00000270CFC1F180>\n",
      "[50, 1, 83311, 0, 13, 1, 1, 1, 0, 0, 0, 0, 13, 0] => 0 (expected 0)\n",
      "<pandas.core.indexing._iLocIndexer object at 0x00000270CFBC1900>\n",
      "[38, 2, 215646, 1, 9, 2, 2, 0, 0, 0, 0, 0, 40, 0] => 0 (expected 0)\n",
      "<pandas.core.indexing._iLocIndexer object at 0x00000270CFC1F180>\n",
      "[53, 2, 234721, 2, 7, 1, 2, 1, 1, 0, 0, 0, 40, 0] => 0 (expected 0)\n",
      "<pandas.core.indexing._iLocIndexer object at 0x00000270CFBC1900>\n",
      "[28, 2, 338409, 0, 13, 1, 3, 2, 1, 1, 0, 0, 40, 1] => 0 (expected 0)\n"
     ]
    }
   ],
   "source": [
    "def build_model3():\n",
    "    model3 = Sequential()\n",
    "    model3.add(Dense(12, input_dim=14, activation='relu'))\n",
    "    model3.add(Dense(16, activation=\"softmax\"))\n",
    "    model3.add(Dense(20, activation=\"softsign\"))\n",
    "    model3.add(Dense(22, activation=\"tanh\"))\n",
    "    model3.add(Dense(24, activation=\"selu\"))\n",
    "    model3.add(Dense(1, activation='sigmoid'))\n",
    "    # compile the keras model\n",
    "    model3.compile(loss='binary_crossentropy', optimizer='adam', metrics=['accuracy'])\n",
    "    return model3\n",
    "\n",
    "model3 = build_model3()\n",
    "\n",
    "# fit the keras model on the dataset\n",
    "model3.fit(X, y, epochs=150, batch_size=10, verbose=0)\n",
    "# make class predictions with the model\n",
    "predictions_3 = (model3.predict(X) > 0.5).astype(int)\n",
    "# summarize the first 5 cases\n",
    "\n",
    "print_5_cases(X, y, predictions_3)"
   ]
  },
  {
   "cell_type": "markdown",
   "id": "efffdcf3-2d4a-461b-90e1-4000c0f15b7e",
   "metadata": {},
   "source": [
    "### Evaluaciones cruzadas\n",
    "\n",
    "Elegí este método de evaluación por su simpleza y facilidad.\n",
    "\n",
    "Basado en https://machinelearningmastery.com/regression-tutorial-keras-deep-learning-library-python/"
   ]
  },
  {
   "cell_type": "code",
   "execution_count": 9,
   "id": "13e691cc-01bb-44af-a5a1-0ceb9877fe45",
   "metadata": {},
   "outputs": [
    {
     "name": "stdout",
     "output_type": "stream",
     "text": [
      "Requirement already satisfied: scikeras[tensorflow] in c:\\users\\usuario\\anaconda3\\lib\\site-packages (0.8.0)\n",
      "Requirement already satisfied: packaging<22.0,>=0.21 in c:\\users\\usuario\\anaconda3\\lib\\site-packages (from scikeras[tensorflow]) (21.0)\n",
      "Requirement already satisfied: scikit-learn>=1.0.0 in c:\\users\\usuario\\anaconda3\\lib\\site-packages (from scikeras[tensorflow]) (1.1.1)\n",
      "Requirement already satisfied: tensorflow>=2.7.0 in c:\\users\\usuario\\anaconda3\\lib\\site-packages (from scikeras[tensorflow]) (2.9.1)\n",
      "Requirement already satisfied: pyparsing>=2.0.2 in c:\\users\\usuario\\anaconda3\\lib\\site-packages (from packaging<22.0,>=0.21->scikeras[tensorflow]) (3.0.4)\n",
      "Requirement already satisfied: threadpoolctl>=2.0.0 in c:\\users\\usuario\\anaconda3\\lib\\site-packages (from scikit-learn>=1.0.0->scikeras[tensorflow]) (2.2.0)\n",
      "Requirement already satisfied: joblib>=1.0.0 in c:\\users\\usuario\\anaconda3\\lib\\site-packages (from scikit-learn>=1.0.0->scikeras[tensorflow]) (1.1.0)\n",
      "Requirement already satisfied: scipy>=1.3.2 in c:\\users\\usuario\\anaconda3\\lib\\site-packages (from scikit-learn>=1.0.0->scikeras[tensorflow]) (1.7.1)\n",
      "Requirement already satisfied: numpy>=1.17.3 in c:\\users\\usuario\\anaconda3\\lib\\site-packages (from scikit-learn>=1.0.0->scikeras[tensorflow]) (1.20.3)\n",
      "Requirement already satisfied: grpcio<2.0,>=1.24.3 in c:\\users\\usuario\\anaconda3\\lib\\site-packages (from tensorflow>=2.7.0->scikeras[tensorflow]) (1.46.3)\n",
      "Requirement already satisfied: six>=1.12.0 in c:\\users\\usuario\\anaconda3\\lib\\site-packages (from tensorflow>=2.7.0->scikeras[tensorflow]) (1.16.0)\n",
      "Requirement already satisfied: tensorboard<2.10,>=2.9 in c:\\users\\usuario\\anaconda3\\lib\\site-packages (from tensorflow>=2.7.0->scikeras[tensorflow]) (2.9.0)\n",
      "Requirement already satisfied: google-pasta>=0.1.1 in c:\\users\\usuario\\anaconda3\\lib\\site-packages (from tensorflow>=2.7.0->scikeras[tensorflow]) (0.2.0)\n",
      "Requirement already satisfied: protobuf<3.20,>=3.9.2 in c:\\users\\usuario\\anaconda3\\lib\\site-packages (from tensorflow>=2.7.0->scikeras[tensorflow]) (3.19.4)\n",
      "Requirement already satisfied: setuptools in c:\\users\\usuario\\anaconda3\\lib\\site-packages (from tensorflow>=2.7.0->scikeras[tensorflow]) (58.0.4)\n",
      "Requirement already satisfied: typing-extensions>=3.6.6 in c:\\users\\usuario\\anaconda3\\lib\\site-packages (from tensorflow>=2.7.0->scikeras[tensorflow]) (3.10.0.2)\n",
      "Requirement already satisfied: astunparse>=1.6.0 in c:\\users\\usuario\\anaconda3\\lib\\site-packages (from tensorflow>=2.7.0->scikeras[tensorflow]) (1.6.3)\n",
      "Requirement already satisfied: keras-preprocessing>=1.1.1 in c:\\users\\usuario\\anaconda3\\lib\\site-packages (from tensorflow>=2.7.0->scikeras[tensorflow]) (1.1.2)\n",
      "Requirement already satisfied: keras<2.10.0,>=2.9.0rc0 in c:\\users\\usuario\\anaconda3\\lib\\site-packages (from tensorflow>=2.7.0->scikeras[tensorflow]) (2.9.0)\n",
      "Requirement already satisfied: tensorflow-estimator<2.10.0,>=2.9.0rc0 in c:\\users\\usuario\\anaconda3\\lib\\site-packages (from tensorflow>=2.7.0->scikeras[tensorflow]) (2.9.0)\n",
      "Requirement already satisfied: flatbuffers<2,>=1.12 in c:\\users\\usuario\\anaconda3\\lib\\site-packages (from tensorflow>=2.7.0->scikeras[tensorflow]) (1.12)\n",
      "Requirement already satisfied: libclang>=13.0.0 in c:\\users\\usuario\\anaconda3\\lib\\site-packages (from tensorflow>=2.7.0->scikeras[tensorflow]) (14.0.1)\n",
      "Requirement already satisfied: tensorflow-io-gcs-filesystem>=0.23.1 in c:\\users\\usuario\\anaconda3\\lib\\site-packages (from tensorflow>=2.7.0->scikeras[tensorflow]) (0.26.0)\n",
      "Requirement already satisfied: h5py>=2.9.0 in c:\\users\\usuario\\anaconda3\\lib\\site-packages (from tensorflow>=2.7.0->scikeras[tensorflow]) (3.2.1)\n",
      "Requirement already satisfied: wrapt>=1.11.0 in c:\\users\\usuario\\anaconda3\\lib\\site-packages (from tensorflow>=2.7.0->scikeras[tensorflow]) (1.12.1)\n",
      "Requirement already satisfied: termcolor>=1.1.0 in c:\\users\\usuario\\anaconda3\\lib\\site-packages (from tensorflow>=2.7.0->scikeras[tensorflow]) (1.1.0)\n",
      "Requirement already satisfied: absl-py>=1.0.0 in c:\\users\\usuario\\anaconda3\\lib\\site-packages (from tensorflow>=2.7.0->scikeras[tensorflow]) (1.0.0)\n",
      "Requirement already satisfied: gast<=0.4.0,>=0.2.1 in c:\\users\\usuario\\anaconda3\\lib\\site-packages (from tensorflow>=2.7.0->scikeras[tensorflow]) (0.4.0)\n",
      "Requirement already satisfied: opt-einsum>=2.3.2 in c:\\users\\usuario\\anaconda3\\lib\\site-packages (from tensorflow>=2.7.0->scikeras[tensorflow]) (3.3.0)\n",
      "Requirement already satisfied: wheel<1.0,>=0.23.0 in c:\\users\\usuario\\anaconda3\\lib\\site-packages (from astunparse>=1.6.0->tensorflow>=2.7.0->scikeras[tensorflow]) (0.37.0)\n",
      "Requirement already satisfied: google-auth<3,>=1.6.3 in c:\\users\\usuario\\anaconda3\\lib\\site-packages (from tensorboard<2.10,>=2.9->tensorflow>=2.7.0->scikeras[tensorflow]) (2.6.6)\n",
      "Requirement already satisfied: requests<3,>=2.21.0 in c:\\users\\usuario\\anaconda3\\lib\\site-packages (from tensorboard<2.10,>=2.9->tensorflow>=2.7.0->scikeras[tensorflow]) (2.26.0)\n",
      "Requirement already satisfied: werkzeug>=1.0.1 in c:\\users\\usuario\\anaconda3\\lib\\site-packages (from tensorboard<2.10,>=2.9->tensorflow>=2.7.0->scikeras[tensorflow]) (2.0.2)\n",
      "Requirement already satisfied: google-auth-oauthlib<0.5,>=0.4.1 in c:\\users\\usuario\\anaconda3\\lib\\site-packages (from tensorboard<2.10,>=2.9->tensorflow>=2.7.0->scikeras[tensorflow]) (0.4.6)\n",
      "Requirement already satisfied: tensorboard-plugin-wit>=1.6.0 in c:\\users\\usuario\\anaconda3\\lib\\site-packages (from tensorboard<2.10,>=2.9->tensorflow>=2.7.0->scikeras[tensorflow]) (1.8.1)\n",
      "Requirement already satisfied: tensorboard-data-server<0.7.0,>=0.6.0 in c:\\users\\usuario\\anaconda3\\lib\\site-packages (from tensorboard<2.10,>=2.9->tensorflow>=2.7.0->scikeras[tensorflow]) (0.6.1)\n",
      "Requirement already satisfied: markdown>=2.6.8 in c:\\users\\usuario\\anaconda3\\lib\\site-packages (from tensorboard<2.10,>=2.9->tensorflow>=2.7.0->scikeras[tensorflow]) (3.3.7)\n",
      "Requirement already satisfied: rsa<5,>=3.1.4 in c:\\users\\usuario\\anaconda3\\lib\\site-packages (from google-auth<3,>=1.6.3->tensorboard<2.10,>=2.9->tensorflow>=2.7.0->scikeras[tensorflow]) (4.8)\n",
      "Requirement already satisfied: cachetools<6.0,>=2.0.0 in c:\\users\\usuario\\anaconda3\\lib\\site-packages (from google-auth<3,>=1.6.3->tensorboard<2.10,>=2.9->tensorflow>=2.7.0->scikeras[tensorflow]) (5.1.0)\n",
      "Requirement already satisfied: pyasn1-modules>=0.2.1 in c:\\users\\usuario\\anaconda3\\lib\\site-packages (from google-auth<3,>=1.6.3->tensorboard<2.10,>=2.9->tensorflow>=2.7.0->scikeras[tensorflow]) (0.2.8)\n",
      "Requirement already satisfied: requests-oauthlib>=0.7.0 in c:\\users\\usuario\\anaconda3\\lib\\site-packages (from google-auth-oauthlib<0.5,>=0.4.1->tensorboard<2.10,>=2.9->tensorflow>=2.7.0->scikeras[tensorflow]) (1.3.1)\n",
      "Requirement already satisfied: importlib-metadata>=4.4 in c:\\users\\usuario\\anaconda3\\lib\\site-packages (from markdown>=2.6.8->tensorboard<2.10,>=2.9->tensorflow>=2.7.0->scikeras[tensorflow]) (4.8.1)\n",
      "Requirement already satisfied: zipp>=0.5 in c:\\users\\usuario\\anaconda3\\lib\\site-packages (from importlib-metadata>=4.4->markdown>=2.6.8->tensorboard<2.10,>=2.9->tensorflow>=2.7.0->scikeras[tensorflow]) (3.6.0)\n",
      "Requirement already satisfied: pyasn1<0.5.0,>=0.4.6 in c:\\users\\usuario\\anaconda3\\lib\\site-packages (from pyasn1-modules>=0.2.1->google-auth<3,>=1.6.3->tensorboard<2.10,>=2.9->tensorflow>=2.7.0->scikeras[tensorflow]) (0.4.8)\n",
      "Requirement already satisfied: urllib3<1.27,>=1.21.1 in c:\\users\\usuario\\anaconda3\\lib\\site-packages (from requests<3,>=2.21.0->tensorboard<2.10,>=2.9->tensorflow>=2.7.0->scikeras[tensorflow]) (1.26.7)\n",
      "Requirement already satisfied: charset-normalizer~=2.0.0 in c:\\users\\usuario\\anaconda3\\lib\\site-packages (from requests<3,>=2.21.0->tensorboard<2.10,>=2.9->tensorflow>=2.7.0->scikeras[tensorflow]) (2.0.4)\n",
      "Requirement already satisfied: certifi>=2017.4.17 in c:\\users\\usuario\\anaconda3\\lib\\site-packages (from requests<3,>=2.21.0->tensorboard<2.10,>=2.9->tensorflow>=2.7.0->scikeras[tensorflow]) (2021.10.8)\n",
      "Requirement already satisfied: idna<4,>=2.5 in c:\\users\\usuario\\anaconda3\\lib\\site-packages (from requests<3,>=2.21.0->tensorboard<2.10,>=2.9->tensorflow>=2.7.0->scikeras[tensorflow]) (3.2)\n",
      "Requirement already satisfied: oauthlib>=3.0.0 in c:\\users\\usuario\\anaconda3\\lib\\site-packages (from requests-oauthlib>=0.7.0->google-auth-oauthlib<0.5,>=0.4.1->tensorboard<2.10,>=2.9->tensorflow>=2.7.0->scikeras[tensorflow]) (3.2.0)\n"
     ]
    }
   ],
   "source": [
    "!pip install scikeras[tensorflow]\n",
    "from scikeras.wrappers import KerasClassifier\n",
    "from sklearn.model_selection import cross_val_score\n",
    "from sklearn.model_selection import KFold"
   ]
  },
  {
   "cell_type": "code",
   "execution_count": 10,
   "id": "62fbb1c9-b45a-43e2-989c-ca8c4c67a1e8",
   "metadata": {},
   "outputs": [
    {
     "name": "stdout",
     "output_type": "stream",
     "text": [
      "250/250 [==============================] - 1s 664us/step - loss: 7151.0107 - accuracy: 0.5293\n",
      "63/63 [==============================] - 0s 768us/step\n",
      "250/250 [==============================] - 0s 698us/step - loss: 1681.9883 - accuracy: 0.6049\n",
      "63/63 [==============================] - 0s 503us/step\n",
      "250/250 [==============================] - 1s 653us/step - loss: 9023.3184 - accuracy: 0.7488\n",
      "63/63 [==============================] - 0s 512us/step\n",
      "250/250 [==============================] - 0s 643us/step - loss: 29975.5117 - accuracy: 0.2403\n",
      "63/63 [==============================] - 0s 520us/step\n",
      "250/250 [==============================] - 0s 651us/step - loss: 53.6876 - accuracy: 0.6803\n",
      "63/63 [==============================] - 0s 499us/step\n",
      "Arquitectura 1\n",
      "Model1: 0.56 (0.27) MSE\n",
      "250/250 [==============================] - 0s 646us/step - loss: 1255.7266 - accuracy: 0.7018\n",
      "63/63 [==============================] - 0s 499us/step\n",
      "250/250 [==============================] - 0s 657us/step - loss: 134.7805 - accuracy: 0.6821\n",
      "63/63 [==============================] - 0s 508us/step\n",
      "250/250 [==============================] - 0s 655us/step - loss: 330.8237 - accuracy: 0.6603\n",
      "63/63 [==============================] - 0s 982us/step\n",
      "250/250 [==============================] - 1s 665us/step - loss: 354.1335 - accuracy: 0.6637\n",
      "63/63 [==============================] - 0s 485us/step\n",
      "250/250 [==============================] - 1s 857us/step - loss: 638.4695 - accuracy: 0.6582\n",
      "63/63 [==============================] - 0s 625us/step\n",
      "Arquitectura 2\n",
      "Model1: 0.67 (0.21) MSE\n",
      "250/250 [==============================] - 1s 900us/step - loss: 2402.5811 - accuracy: 0.5723\n",
      "63/63 [==============================] - 0s 507us/step\n",
      "250/250 [==============================] - 0s 656us/step - loss: 272.7641 - accuracy: 0.5363\n",
      "63/63 [==============================] - 0s 503us/step\n",
      "250/250 [==============================] - 0s 651us/step - loss: 18834.1699 - accuracy: 0.3855\n",
      "63/63 [==============================] - 0s 496us/step\n",
      "250/250 [==============================] - 0s 685us/step - loss: 49.8015 - accuracy: 0.6834\n",
      "63/63 [==============================] - 0s 519us/step\n",
      "250/250 [==============================] - 1s 662us/step - loss: 107.5999 - accuracy: 0.6912\n",
      "63/63 [==============================] - 0s 497us/step\n",
      "Arquitectura 3\n",
      "Model1: 0.67 (0.21) MSE\n"
     ]
    }
   ],
   "source": [
    "\n",
    "def evaluate_model(model):\n",
    "    estimator = KerasClassifier(model=build_model1)\n",
    "    kfold = KFold()\n",
    "    results = cross_val_score(estimator, X, y, cv=kfold)\n",
    "    return results\n",
    "\n",
    "def print_evaluation(title, results):\n",
    "    print(title)\n",
    "    print(\"Model1: %.2f (%.2f) MSE\" % (results.mean(), results.std()))\n",
    "    \n",
    "results1 = evaluate_model(model1)\n",
    "print_evaluation(\"Arquitectura 1\", results1)\n",
    "\n",
    "results2 = evaluate_model(model2)\n",
    "print_evaluation(\"Arquitectura 2\", results2)\n",
    "\n",
    "results3 = evaluate_model(model3)\n",
    "print_evaluation(\"Arquitectura 3\", results3)"
   ]
  },
  {
   "cell_type": "markdown",
   "id": "3d7d561a-e06a-4d82-b564-d41d3899940b",
   "metadata": {},
   "source": [
    "### Interpretación de comparaciones\n",
    "\n",
    "En este caso, la arquitectura 2 fue la que obtuvo mejor rendimiento. Voy a asumir que fue el mejor resultado porque fue una cantidad media de capas. Ni muy pocas, ni demasiadas. Tratando de razonar un poco, puedo imaginar que si hay pocas capas, no se puede \"distribuir\" esos datos de buena forma. Por otro lado, al haber tantas capas, más bien puede ocasionar mucho ruido. La conclusión que me deja esto es que no siempre es mejor tener más capas. Es sumamente importante realizar cross-validation para probar distintas alternativas y escoger la que mejor dé resultados."
   ]
  },
  {
   "cell_type": "markdown",
   "id": "e987f24c-8556-4bce-a00c-c0d51d9dad66",
   "metadata": {},
   "source": [
    "### Comparación con tarea 2"
   ]
  },
  {
   "cell_type": "markdown",
   "id": "c7a48de6-59b6-454d-8a71-42069602c36b",
   "metadata": {},
   "source": [
    "En términos generales, los modelos tuvieron mejores resultados. Tanto en precisión como en rendimiento, ya que hasta fueron más rápidos. Si tuviese que dar una recomendación en mi organización, diría que primero se puede empezar con Extreme Gradient Boosting, el cual es muy popular y de buen rendimiento. Y apartir de ahí, tantear con los hiperparámetros. Esto lo digo porque es más sencillo que armar una estructura de redes neuronales, ya que esto último puede tomarse un poco más complejo. En términos generales, puede tomar más tiempo y recursos. Por lo que definitivamente recomiendo usar primero algo más sencillo."
   ]
  },
  {
   "cell_type": "code",
   "execution_count": null,
   "id": "035bb7e9-26cf-4ff9-8d40-52803dfbd2e4",
   "metadata": {},
   "outputs": [],
   "source": []
  }
 ],
 "metadata": {
  "kernelspec": {
   "display_name": "Python 3 (ipykernel)",
   "language": "python",
   "name": "python3"
  },
  "language_info": {
   "codemirror_mode": {
    "name": "ipython",
    "version": 3
   },
   "file_extension": ".py",
   "mimetype": "text/x-python",
   "name": "python",
   "nbconvert_exporter": "python",
   "pygments_lexer": "ipython3",
   "version": "3.9.7"
  }
 },
 "nbformat": 4,
 "nbformat_minor": 5
}
