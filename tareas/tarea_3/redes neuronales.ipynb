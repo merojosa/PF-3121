{
 "cells": [
  {
   "cell_type": "markdown",
   "id": "cc8f0755-906f-48d3-b9b4-2c89825dbc2f",
   "metadata": {},
   "source": [
    "## Preparación de datos"
   ]
  },
  {
   "cell_type": "code",
   "execution_count": 1,
   "id": "de0de322-b662-4db2-8234-a1c1673a4f34",
   "metadata": {},
   "outputs": [],
   "source": [
    "import pandas as pd\n",
    "\n",
    "PREDICTORS = [\"age\", \"workclass\", \"fnlwgt\", \"education\", \"education-num\", \"marital-status\", \n",
    "                                        \"occupation\", \"relationship\", \"race\", \"sex\", \"capital-gain\",\n",
    "                                        \"capital-loss\", \"hours-per-week\", \"native-country\"]\n",
    "PREDICTORS_STRING = [\"workclass\", \"education\", \"marital-status\", \"occupation\", \"relationship\", \"race\", \"sex\", \"native-country\"]\n",
    "PREDICTORS_INT = [\"age\", \"fnlwgt\", \"capital-gain\", \"capital-loss\", \"hours-per-week\"]\n",
    "TARGET_VARIABLE = \"class\"\n",
    "\n",
    "data = pd.read_csv('adult.data', names=[\"age\", \"workclass\", \"fnlwgt\", \"education\", \"education-num\", \"marital-status\", \n",
    "                                        \"occupation\", \"relationship\", \"race\", \"sex\", \"capital-gain\",\n",
    "                                        \"capital-loss\", \"hours-per-week\", \"native-country\", \"class\"])\n",
    "\n",
    "def from_string_to_int(key, data_set):\n",
    "    data_set[key],class_names = pd.factorize(data_set[key])\n",
    "    return class_names\n",
    "\n",
    "class_names = from_string_to_int(TARGET_VARIABLE, data)\n",
    "\n",
    "for predictor in PREDICTORS_STRING:\n",
    "    from_string_to_int(predictor, data)\n",
    "    \n",
    "X = data.iloc[:,:-1]\n",
    "y = data.iloc[:,-1]\n",
    "\n",
    "\n",
    "def print_5_cases(X, y, predictions):\n",
    "    for i in range(5):\n",
    "        print(X.iloc)\n",
    "        print('%s => %d (expected %d)' % (X.iloc[i].tolist(), predictions[i], y.iloc[i]))"
   ]
  },
  {
   "cell_type": "markdown",
   "id": "e39f9669-a777-4e57-b91e-e43ebc7a8e22",
   "metadata": {},
   "source": [
    "## Arquitectura 1"
   ]
  },
  {
   "cell_type": "code",
   "execution_count": 2,
   "id": "e65ada21-ba73-446c-8ed5-3a274c912156",
   "metadata": {},
   "outputs": [
    {
     "name": "stdout",
     "output_type": "stream",
     "text": [
      "157/157 [==============================] - 0s 492us/step\n",
      "<pandas.core.indexing._iLocIndexer object at 0x000001EDFF038DB0>\n",
      "[39, 0, 77516, 0, 13, 0, 0, 0, 0, 0, 2174, 0, 40, 0] => 0 (expected 0)\n",
      "<pandas.core.indexing._iLocIndexer object at 0x000001EDFF0386D0>\n",
      "[50, 1, 83311, 0, 13, 1, 1, 1, 0, 0, 0, 0, 13, 0] => 0 (expected 0)\n",
      "<pandas.core.indexing._iLocIndexer object at 0x000001EDFF038DB0>\n",
      "[38, 2, 215646, 1, 9, 2, 2, 0, 0, 0, 0, 0, 40, 0] => 0 (expected 0)\n",
      "<pandas.core.indexing._iLocIndexer object at 0x000001EDFF038EA0>\n",
      "[53, 2, 234721, 2, 7, 1, 2, 1, 1, 0, 0, 0, 40, 0] => 0 (expected 0)\n",
      "<pandas.core.indexing._iLocIndexer object at 0x000001EDFF038BD0>\n",
      "[28, 2, 338409, 0, 13, 1, 3, 2, 1, 1, 0, 0, 40, 1] => 0 (expected 0)\n"
     ]
    }
   ],
   "source": [
    "from numpy import loadtxt\n",
    "from keras.models import Sequential\n",
    "from keras.layers import Dense\n",
    "\n",
    "\n",
    "# define the keras model\n",
    "model = Sequential()\n",
    "model.add(Dense(12, input_dim=14, activation='relu'))\n",
    "model.add(Dense(8, activation='relu'))\n",
    "model.add(Dense(1, activation='sigmoid'))\n",
    "# compile the keras model\n",
    "model.compile(loss='binary_crossentropy', optimizer='adam', metrics=['accuracy'])\n",
    "# fit the keras model on the dataset\n",
    "model.fit(X, y, epochs=150, batch_size=10, verbose=0)\n",
    "# make class predictions with the model\n",
    "predictions_1 = (model.predict(X) > 0.5).astype(int)\n",
    "# summarize the first 5 cases\n",
    "print_5_cases(X, y, predictions_1)"
   ]
  },
  {
   "cell_type": "markdown",
   "id": "f6109d18-48d4-4665-8c2e-58c8e2a6e9da",
   "metadata": {},
   "source": [
    "## Arquitectura 2"
   ]
  },
  {
   "cell_type": "code",
   "execution_count": 3,
   "id": "0904d6a2-8bff-4b61-a4c5-15aa00e97db7",
   "metadata": {},
   "outputs": [
    {
     "name": "stdout",
     "output_type": "stream",
     "text": [
      "157/157 [==============================] - 0s 512us/step\n",
      "<pandas.core.indexing._iLocIndexer object at 0x000001EDFF58C310>\n",
      "[39, 0, 77516, 0, 13, 0, 0, 0, 0, 0, 2174, 0, 40, 0] => 0 (expected 0)\n",
      "<pandas.core.indexing._iLocIndexer object at 0x000001EDFF58C310>\n",
      "[50, 1, 83311, 0, 13, 1, 1, 1, 0, 0, 0, 0, 13, 0] => 0 (expected 0)\n",
      "<pandas.core.indexing._iLocIndexer object at 0x000001EDFF58C310>\n",
      "[38, 2, 215646, 1, 9, 2, 2, 0, 0, 0, 0, 0, 40, 0] => 0 (expected 0)\n",
      "<pandas.core.indexing._iLocIndexer object at 0x000001EDFF58C310>\n",
      "[53, 2, 234721, 2, 7, 1, 2, 1, 1, 0, 0, 0, 40, 0] => 0 (expected 0)\n",
      "<pandas.core.indexing._iLocIndexer object at 0x000001EDFF58C310>\n",
      "[28, 2, 338409, 0, 13, 1, 3, 2, 1, 1, 0, 0, 40, 1] => 0 (expected 0)\n"
     ]
    }
   ],
   "source": [
    "model = Sequential()\n",
    "model.add(Dense(12, input_dim=14, activation='relu'))\n",
    "model.add(Dense(16, activation=\"softmax\"))\n",
    "model.add(Dense(20, activation=\"softsign\"))\n",
    "model.add(Dense(1, activation='sigmoid'))\n",
    "# compile the keras model\n",
    "model.compile(loss='binary_crossentropy', optimizer='adam', metrics=['accuracy'])\n",
    "# fit the keras model on the dataset\n",
    "model.fit(X, y, epochs=150, batch_size=10, verbose=0)\n",
    "# make class predictions with the model\n",
    "predictions_2 = (model.predict(X) > 0.5).astype(int)\n",
    "# summarize the first 5 cases\n",
    "print_5_cases(X, y, predictions_2)"
   ]
  },
  {
   "cell_type": "markdown",
   "id": "ff42a0da-1828-41ed-81cd-bf087dfa3690",
   "metadata": {},
   "source": [
    "## Arquitectura 3"
   ]
  },
  {
   "cell_type": "code",
   "execution_count": 4,
   "id": "111d3f9e-f563-4642-85cd-a447733c9d12",
   "metadata": {},
   "outputs": [
    {
     "name": "stdout",
     "output_type": "stream",
     "text": [
      "157/157 [==============================] - 0s 525us/step\n",
      "<pandas.core.indexing._iLocIndexer object at 0x000001EDFF44BB30>\n",
      "[39, 0, 77516, 0, 13, 0, 0, 0, 0, 0, 2174, 0, 40, 0] => 0 (expected 0)\n",
      "<pandas.core.indexing._iLocIndexer object at 0x000001EDFF44BE50>\n",
      "[50, 1, 83311, 0, 13, 1, 1, 1, 0, 0, 0, 0, 13, 0] => 0 (expected 0)\n",
      "<pandas.core.indexing._iLocIndexer object at 0x000001EDFF44BB30>\n",
      "[38, 2, 215646, 1, 9, 2, 2, 0, 0, 0, 0, 0, 40, 0] => 0 (expected 0)\n",
      "<pandas.core.indexing._iLocIndexer object at 0x000001EDFF44BE50>\n",
      "[53, 2, 234721, 2, 7, 1, 2, 1, 1, 0, 0, 0, 40, 0] => 0 (expected 0)\n",
      "<pandas.core.indexing._iLocIndexer object at 0x000001EDFF44BB30>\n",
      "[28, 2, 338409, 0, 13, 1, 3, 2, 1, 1, 0, 0, 40, 1] => 0 (expected 0)\n"
     ]
    }
   ],
   "source": [
    "model = Sequential()\n",
    "model.add(Dense(12, input_dim=14, activation='relu'))\n",
    "model.add(Dense(16, activation=\"softmax\"))\n",
    "model.add(Dense(20, activation=\"softsign\"))\n",
    "model.add(Dense(22, activation=\"tanh\"))\n",
    "model.add(Dense(24, activation=\"selu\"))\n",
    "model.add(Dense(1, activation='sigmoid'))\n",
    "# compile the keras model\n",
    "model.compile(loss='binary_crossentropy', optimizer='adam', metrics=['accuracy'])\n",
    "# fit the keras model on the dataset\n",
    "model.fit(X, y, epochs=150, batch_size=10, verbose=0)\n",
    "# make class predictions with the model\n",
    "predictions_3 = (model.predict(X) > 0.5).astype(int)\n",
    "# summarize the first 5 cases\n",
    "\n",
    "print_5_cases(X, y, predictions_3)"
   ]
  },
  {
   "cell_type": "code",
   "execution_count": null,
   "id": "42b4277e-9534-4024-a0fc-02cce1292d5d",
   "metadata": {},
   "outputs": [],
   "source": []
  }
 ],
 "metadata": {
  "kernelspec": {
   "display_name": "Python 3 (ipykernel)",
   "language": "python",
   "name": "python3"
  },
  "language_info": {
   "codemirror_mode": {
    "name": "ipython",
    "version": 3
   },
   "file_extension": ".py",
   "mimetype": "text/x-python",
   "name": "python",
   "nbconvert_exporter": "python",
   "pygments_lexer": "ipython3",
   "version": "3.9.7"
  }
 },
 "nbformat": 4,
 "nbformat_minor": 5
}
