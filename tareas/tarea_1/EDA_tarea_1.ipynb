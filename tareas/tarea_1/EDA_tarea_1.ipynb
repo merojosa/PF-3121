{
 "cells": [
  {
   "cell_type": "markdown",
   "id": "f0c5f507-109e-4987-9c26-80f69033d77e",
   "metadata": {},
   "source": [
    "Librerías para empezar a hacer el análisis exploratorio"
   ]
  },
  {
   "cell_type": "code",
   "execution_count": 2,
   "id": "dcbc17da-a970-4d3d-af54-1acf6cba73e6",
   "metadata": {},
   "outputs": [],
   "source": [
    "# special IPython command to prepare the notebook for matplotlib\n",
    "%matplotlib inline \n",
    "\n",
    "import pandas as pd\n",
    "import matplotlib.pyplot as plt\n",
    "\n",
    "# pd.options.display.mpl_style = 'default'\n",
    "plt.style.use('ggplot')"
   ]
  },
  {
   "cell_type": "markdown",
   "id": "ced991bc-ade2-470a-bd5b-ba0eade97977",
   "metadata": {},
   "source": [
    "Se cargan los datos desde un repositorio público y se despliega la tabla."
   ]
  },
  {
   "cell_type": "code",
   "execution_count": 3,
   "id": "0e2e9518-e512-4ae9-b506-c8c4c48d9d6a",
   "metadata": {},
   "outputs": [
    {
     "data": {
      "text/html": [
       "<div>\n",
       "<style scoped>\n",
       "    .dataframe tbody tr th:only-of-type {\n",
       "        vertical-align: middle;\n",
       "    }\n",
       "\n",
       "    .dataframe tbody tr th {\n",
       "        vertical-align: top;\n",
       "    }\n",
       "\n",
       "    .dataframe thead th {\n",
       "        text-align: right;\n",
       "    }\n",
       "</style>\n",
       "<table border=\"1\" class=\"dataframe\">\n",
       "  <thead>\n",
       "    <tr style=\"text-align: right;\">\n",
       "      <th></th>\n",
       "      <th>Game</th>\n",
       "      <th>Month</th>\n",
       "      <th>Year</th>\n",
       "      <th>year_month_date</th>\n",
       "      <th>Hours_watched</th>\n",
       "      <th>Hours_Streamed</th>\n",
       "      <th>Peak_viewers</th>\n",
       "      <th>Peak_channels</th>\n",
       "      <th>Streamers</th>\n",
       "      <th>Avg_viewers</th>\n",
       "      <th>Avg_channels</th>\n",
       "      <th>Avg_viewer_ratio</th>\n",
       "    </tr>\n",
       "    <tr>\n",
       "      <th>Rank</th>\n",
       "      <th></th>\n",
       "      <th></th>\n",
       "      <th></th>\n",
       "      <th></th>\n",
       "      <th></th>\n",
       "      <th></th>\n",
       "      <th></th>\n",
       "      <th></th>\n",
       "      <th></th>\n",
       "      <th></th>\n",
       "      <th></th>\n",
       "      <th></th>\n",
       "    </tr>\n",
       "  </thead>\n",
       "  <tbody>\n",
       "    <tr>\n",
       "      <th>1</th>\n",
       "      <td>League of Legends</td>\n",
       "      <td>1</td>\n",
       "      <td>2016</td>\n",
       "      <td>2016-01-01T00:00:00Z</td>\n",
       "      <td>94377226</td>\n",
       "      <td>1362044</td>\n",
       "      <td>530270</td>\n",
       "      <td>2903</td>\n",
       "      <td>129172</td>\n",
       "      <td>127021</td>\n",
       "      <td>1833</td>\n",
       "      <td>69.29</td>\n",
       "    </tr>\n",
       "    <tr>\n",
       "      <th>2</th>\n",
       "      <td>Counter-Strike: Global Offensive</td>\n",
       "      <td>1</td>\n",
       "      <td>2016</td>\n",
       "      <td>2016-01-01T00:00:00Z</td>\n",
       "      <td>47832863</td>\n",
       "      <td>830105</td>\n",
       "      <td>372654</td>\n",
       "      <td>2197</td>\n",
       "      <td>120849</td>\n",
       "      <td>64378</td>\n",
       "      <td>1117</td>\n",
       "      <td>57.62</td>\n",
       "    </tr>\n",
       "    <tr>\n",
       "      <th>3</th>\n",
       "      <td>Dota 2</td>\n",
       "      <td>1</td>\n",
       "      <td>2016</td>\n",
       "      <td>2016-01-01T00:00:00Z</td>\n",
       "      <td>45185893</td>\n",
       "      <td>433397</td>\n",
       "      <td>315083</td>\n",
       "      <td>1100</td>\n",
       "      <td>44074</td>\n",
       "      <td>60815</td>\n",
       "      <td>583</td>\n",
       "      <td>104.26</td>\n",
       "    </tr>\n",
       "    <tr>\n",
       "      <th>4</th>\n",
       "      <td>Hearthstone</td>\n",
       "      <td>1</td>\n",
       "      <td>2016</td>\n",
       "      <td>2016-01-01T00:00:00Z</td>\n",
       "      <td>39936159</td>\n",
       "      <td>235903</td>\n",
       "      <td>131357</td>\n",
       "      <td>517</td>\n",
       "      <td>36170</td>\n",
       "      <td>53749</td>\n",
       "      <td>317</td>\n",
       "      <td>169.29</td>\n",
       "    </tr>\n",
       "    <tr>\n",
       "      <th>5</th>\n",
       "      <td>Call of Duty: Black Ops III</td>\n",
       "      <td>1</td>\n",
       "      <td>2016</td>\n",
       "      <td>2016-01-01T00:00:00Z</td>\n",
       "      <td>16153057</td>\n",
       "      <td>1151578</td>\n",
       "      <td>71639</td>\n",
       "      <td>3620</td>\n",
       "      <td>214054</td>\n",
       "      <td>21740</td>\n",
       "      <td>1549</td>\n",
       "      <td>14.03</td>\n",
       "    </tr>\n",
       "  </tbody>\n",
       "</table>\n",
       "</div>"
      ],
      "text/plain": [
       "                                  Game  Month  Year       year_month_date  \\\n",
       "Rank                                                                        \n",
       "1                    League of Legends      1  2016  2016-01-01T00:00:00Z   \n",
       "2     Counter-Strike: Global Offensive      1  2016  2016-01-01T00:00:00Z   \n",
       "3                               Dota 2      1  2016  2016-01-01T00:00:00Z   \n",
       "4                          Hearthstone      1  2016  2016-01-01T00:00:00Z   \n",
       "5          Call of Duty: Black Ops III      1  2016  2016-01-01T00:00:00Z   \n",
       "\n",
       "      Hours_watched  Hours_Streamed  Peak_viewers  Peak_channels  Streamers  \\\n",
       "Rank                                                                          \n",
       "1          94377226         1362044        530270           2903     129172   \n",
       "2          47832863          830105        372654           2197     120849   \n",
       "3          45185893          433397        315083           1100      44074   \n",
       "4          39936159          235903        131357            517      36170   \n",
       "5          16153057         1151578         71639           3620     214054   \n",
       "\n",
       "      Avg_viewers  Avg_channels  Avg_viewer_ratio  \n",
       "Rank                                               \n",
       "1          127021          1833             69.29  \n",
       "2           64378          1117             57.62  \n",
       "3           60815           583            104.26  \n",
       "4           53749           317            169.29  \n",
       "5           21740          1549             14.03  "
      ]
     },
     "execution_count": 3,
     "metadata": {},
     "output_type": "execute_result"
    }
   ],
   "source": [
    "url = 'https://raw.githubusercontent.com/JoseAndresMejiasRojas/PF-3121-public-files/main/twitch_game_data_limpio.csv'\n",
    "ranking = pd.read_csv(url, sep = ',', index_col=0)\n",
    "ranking.head()"
   ]
  },
  {
   "cell_type": "code",
   "execution_count": 15,
   "id": "73cc389d-110c-485e-8c61-7de9e132bc03",
   "metadata": {},
   "outputs": [
    {
     "data": {
      "text/html": [
       "<div>\n",
       "<style scoped>\n",
       "    .dataframe tbody tr th:only-of-type {\n",
       "        vertical-align: middle;\n",
       "    }\n",
       "\n",
       "    .dataframe tbody tr th {\n",
       "        vertical-align: top;\n",
       "    }\n",
       "\n",
       "    .dataframe thead th {\n",
       "        text-align: right;\n",
       "    }\n",
       "</style>\n",
       "<table border=\"1\" class=\"dataframe\">\n",
       "  <thead>\n",
       "    <tr style=\"text-align: right;\">\n",
       "      <th></th>\n",
       "      <th>Month</th>\n",
       "      <th>Year</th>\n",
       "      <th>Hours_watched</th>\n",
       "      <th>Hours_Streamed</th>\n",
       "      <th>Peak_viewers</th>\n",
       "      <th>Peak_channels</th>\n",
       "      <th>Streamers</th>\n",
       "      <th>Avg_viewers</th>\n",
       "      <th>Avg_channels</th>\n",
       "      <th>Avg_viewer_ratio</th>\n",
       "    </tr>\n",
       "  </thead>\n",
       "  <tbody>\n",
       "    <tr>\n",
       "      <th>count</th>\n",
       "      <td>14400.000000</td>\n",
       "      <td>14400.000000</td>\n",
       "      <td>1.440000e+04</td>\n",
       "      <td>1.440000e+04</td>\n",
       "      <td>1.440000e+04</td>\n",
       "      <td>14400.000000</td>\n",
       "      <td>1.440000e+04</td>\n",
       "      <td>14400.000000</td>\n",
       "      <td>14400.000000</td>\n",
       "      <td>14400.000000</td>\n",
       "    </tr>\n",
       "    <tr>\n",
       "      <th>mean</th>\n",
       "      <td>6.500000</td>\n",
       "      <td>2018.500000</td>\n",
       "      <td>4.782448e+06</td>\n",
       "      <td>1.571197e+05</td>\n",
       "      <td>5.509512e+04</td>\n",
       "      <td>586.759236</td>\n",
       "      <td>1.722478e+04</td>\n",
       "      <td>6553.785278</td>\n",
       "      <td>214.859097</td>\n",
       "      <td>81.874403</td>\n",
       "    </tr>\n",
       "    <tr>\n",
       "      <th>std</th>\n",
       "      <td>3.452172</td>\n",
       "      <td>1.707884</td>\n",
       "      <td>1.667895e+07</td>\n",
       "      <td>5.428111e+05</td>\n",
       "      <td>1.329134e+05</td>\n",
       "      <td>2721.411089</td>\n",
       "      <td>5.453153e+04</td>\n",
       "      <td>22858.599426</td>\n",
       "      <td>743.850310</td>\n",
       "      <td>368.878411</td>\n",
       "    </tr>\n",
       "    <tr>\n",
       "      <th>min</th>\n",
       "      <td>1.000000</td>\n",
       "      <td>2016.000000</td>\n",
       "      <td>8.981100e+04</td>\n",
       "      <td>1.900000e+01</td>\n",
       "      <td>4.410000e+02</td>\n",
       "      <td>1.000000</td>\n",
       "      <td>0.000000e+00</td>\n",
       "      <td>120.000000</td>\n",
       "      <td>0.000000</td>\n",
       "      <td>1.950000</td>\n",
       "    </tr>\n",
       "    <tr>\n",
       "      <th>25%</th>\n",
       "      <td>3.750000</td>\n",
       "      <td>2017.000000</td>\n",
       "      <td>3.680565e+05</td>\n",
       "      <td>1.221250e+04</td>\n",
       "      <td>8.352500e+03</td>\n",
       "      <td>51.750000</td>\n",
       "      <td>1.479500e+03</td>\n",
       "      <td>504.000000</td>\n",
       "      <td>16.000000</td>\n",
       "      <td>16.120000</td>\n",
       "    </tr>\n",
       "    <tr>\n",
       "      <th>50%</th>\n",
       "      <td>6.500000</td>\n",
       "      <td>2018.500000</td>\n",
       "      <td>8.198695e+05</td>\n",
       "      <td>3.163800e+04</td>\n",
       "      <td>2.016950e+04</td>\n",
       "      <td>122.000000</td>\n",
       "      <td>4.126000e+03</td>\n",
       "      <td>1125.000000</td>\n",
       "      <td>43.000000</td>\n",
       "      <td>29.160000</td>\n",
       "    </tr>\n",
       "    <tr>\n",
       "      <th>75%</th>\n",
       "      <td>9.250000</td>\n",
       "      <td>2020.000000</td>\n",
       "      <td>2.295376e+06</td>\n",
       "      <td>8.871850e+04</td>\n",
       "      <td>4.598150e+04</td>\n",
       "      <td>318.000000</td>\n",
       "      <td>1.071425e+04</td>\n",
       "      <td>3158.000000</td>\n",
       "      <td>121.000000</td>\n",
       "      <td>57.795000</td>\n",
       "    </tr>\n",
       "    <tr>\n",
       "      <th>max</th>\n",
       "      <td>12.000000</td>\n",
       "      <td>2021.000000</td>\n",
       "      <td>3.445520e+08</td>\n",
       "      <td>1.024570e+07</td>\n",
       "      <td>3.123208e+06</td>\n",
       "      <td>129860.000000</td>\n",
       "      <td>1.013029e+06</td>\n",
       "      <td>479209.000000</td>\n",
       "      <td>13789.000000</td>\n",
       "      <td>13601.870000</td>\n",
       "    </tr>\n",
       "  </tbody>\n",
       "</table>\n",
       "</div>"
      ],
      "text/plain": [
       "              Month          Year  Hours_watched  Hours_Streamed  \\\n",
       "count  14400.000000  14400.000000   1.440000e+04    1.440000e+04   \n",
       "mean       6.500000   2018.500000   4.782448e+06    1.571197e+05   \n",
       "std        3.452172      1.707884   1.667895e+07    5.428111e+05   \n",
       "min        1.000000   2016.000000   8.981100e+04    1.900000e+01   \n",
       "25%        3.750000   2017.000000   3.680565e+05    1.221250e+04   \n",
       "50%        6.500000   2018.500000   8.198695e+05    3.163800e+04   \n",
       "75%        9.250000   2020.000000   2.295376e+06    8.871850e+04   \n",
       "max       12.000000   2021.000000   3.445520e+08    1.024570e+07   \n",
       "\n",
       "       Peak_viewers  Peak_channels     Streamers    Avg_viewers  Avg_channels  \\\n",
       "count  1.440000e+04   14400.000000  1.440000e+04   14400.000000  14400.000000   \n",
       "mean   5.509512e+04     586.759236  1.722478e+04    6553.785278    214.859097   \n",
       "std    1.329134e+05    2721.411089  5.453153e+04   22858.599426    743.850310   \n",
       "min    4.410000e+02       1.000000  0.000000e+00     120.000000      0.000000   \n",
       "25%    8.352500e+03      51.750000  1.479500e+03     504.000000     16.000000   \n",
       "50%    2.016950e+04     122.000000  4.126000e+03    1125.000000     43.000000   \n",
       "75%    4.598150e+04     318.000000  1.071425e+04    3158.000000    121.000000   \n",
       "max    3.123208e+06  129860.000000  1.013029e+06  479209.000000  13789.000000   \n",
       "\n",
       "       Avg_viewer_ratio  \n",
       "count      14400.000000  \n",
       "mean          81.874403  \n",
       "std          368.878411  \n",
       "min            1.950000  \n",
       "25%           16.120000  \n",
       "50%           29.160000  \n",
       "75%           57.795000  \n",
       "max        13601.870000  "
      ]
     },
     "execution_count": 15,
     "metadata": {},
     "output_type": "execute_result"
    }
   ],
   "source": [
    "ranking.describe()"
   ]
  },
  {
   "cell_type": "code",
   "execution_count": 33,
   "id": "88d62470-2b1e-4212-850e-c1181ca2c2b4",
   "metadata": {},
   "outputs": [
    {
     "name": "stdout",
     "output_type": "stream",
     "text": [
      "Hours_streamed | Hours_watched corr: 0.75886239047437\n",
      "Avg_viewers | Hours_watched corr: 0.9996242410340062\n",
      "Hours_Streamed | Hours_watched corr: 0.75886239047437\n"
     ]
    }
   ],
   "source": [
    "print(\"Hours_streamed | Hours_watched corr:\", ranking['Hours_Streamed'].corr(ranking['Hours_watched']))\n",
    "print(\"Avg_viewers | Hours_watched corr:\", ranking['Avg_viewers'].corr(ranking['Hours_watched']))\n",
    "print(\"Hours_Streamed | Hours_watched corr:\", ranking['Hours_Streamed'].corr(ranking['Hours_watched']))"
   ]
  },
  {
   "cell_type": "code",
   "execution_count": 24,
   "id": "8f58106a-967d-472a-9403-164e3793b8e0",
   "metadata": {},
   "outputs": [
    {
     "name": "stdout",
     "output_type": "stream",
     "text": [
      "Hours_watched: 157119.73166666666\n"
     ]
    }
   ],
   "source": [
    "print(\"Hours_watched mean:\", ranking['Hours_Streamed'].mean())"
   ]
  },
  {
   "cell_type": "code",
   "execution_count": 34,
   "id": "7f543523-74d8-4339-9130-377b2d5cc592",
   "metadata": {},
   "outputs": [
    {
     "name": "stdout",
     "output_type": "stream",
     "text": [
      "Hours_watched var 278187449849191.34\n",
      "Avg_viewers var 522515567.70207006\n"
     ]
    }
   ],
   "source": [
    "print(\"Hours_watched var\", ranking[\"Hours_watched\"].var())\n",
    "print(\"Avg_viewers var\", ranking[\"Avg_viewers\"].var())\n",
    "print(\"Hours_watched std\", ranking[\"Hours_watched\"].std())\n",
    "print(\"Avg_viewers std\", ranking[\"Avg_viewers\"].std())"
   ]
  },
  {
   "cell_type": "code",
   "execution_count": 9,
   "id": "03ab5bbe-7c52-4719-81ee-60dbd7dc139c",
   "metadata": {},
   "outputs": [
    {
     "data": {
      "text/plain": [
       "Text(0.5, 0, 'Average viewers')"
      ]
     },
     "execution_count": 9,
     "metadata": {},
     "output_type": "execute_result"
    },
    {
     "data": {
      "image/png": "[encoded data removed]",
      "text/plain": [
       "<Figure size 432x288 with 1 Axes>"
      ]
     },
     "metadata": {},
     "output_type": "display_data"
    }
   ],
   "source": [
    "ranking['Avg_viewers'].hist(bins=6, color = 'black')\n",
    "plt.title('Distribution of Average viewers')\n",
    "plt.xlabel('Average viewers')"
   ]
  },
  {
   "cell_type": "code",
   "execution_count": 12,
   "id": "da2fc6e4-59a5-42b5-ba1c-dc6910b935e7",
   "metadata": {},
   "outputs": [
    {
     "data": {
      "text/plain": [
       "Text(0, 0.5, 'Hours Streamed')"
      ]
     },
     "execution_count": 12,
     "metadata": {},
     "output_type": "execute_result"
    },
    {
     "data": {
      "image/png": "[encoded data removed]",
      "text/plain": [
       "<Figure size 432x288 with 1 Axes>"
      ]
     },
     "metadata": {},
     "output_type": "display_data"
    }
   ],
   "source": [
    "plt.scatter(ranking['Avg_viewers'], ranking['Hours_Streamed'], color = 'blue', alpha = 1)\n",
    "plt.xlabel('Average Viewers')\n",
    "plt.ylabel('Hours Streamed')"
   ]
  },
  {
   "cell_type": "markdown",
   "id": "a58a6285-9a83-4661-bbf5-72840c5c0429",
   "metadata": {},
   "source": [
    "## Explicación datos\n",
    "- Correlación: Al ser positivo, indica que entre más horas stremeadas, mayor viewers tendrá el streamer.\n",
    "- Varianza y desviación estándar: Tenemos un número muy grande en horas vistas y promedio de vistas, lo cual indica que los valores están muy alejados de la media, ie, valores muy distribuidos en el plano.\n",
    "- Gráficos: A lo que podemos concluir, debido a lo complicado que es el data set, es que un streamer que pueda transmitir más, tendrá un promedio mejor de vistas."
   ]
  },
  {
   "cell_type": "markdown",
   "id": "afe0bc80-e4c0-492f-b232-598852a004bb",
   "metadata": {
    "tags": []
   },
   "source": [
    "## Dos atributos problemáticos\n",
    "En este caso en particular es un poco complicado realizar alguna de las técnicas dado que el data set está muy limpio. Sin embargo, sí es claro que atributos que tenga que ver con channels no aportarán tanto dado que se sale del alcance de las preguntas. Recordando que lo que se quiere calcular es audiencia. Las columnas que no aportarían serían Peak_channels, Avg_channels, y Streamers. Hours_Streamed sí puede aportar ya que puede haber una relación entre horas transmitidas y la audiencia."
   ]
  },
  {
   "cell_type": "code",
   "execution_count": null,
   "id": "be095566-04df-4162-867e-37b5bec3906b",
   "metadata": {},
   "outputs": [],
   "source": []
  }
 ],
 "metadata": {
  "kernelspec": {
   "display_name": "Python 3 (ipykernel)",
   "language": "python",
   "name": "python3"
  },
  "language_info": {
   "codemirror_mode": {
    "name": "ipython",
    "version": 3
   },
   "file_extension": ".py",
   "mimetype": "text/x-python",
   "name": "python",
   "nbconvert_exporter": "python",
   "pygments_lexer": "ipython3",
   "version": "3.9.7"
  }
 },
 "nbformat": 4,
 "nbformat_minor": 5
}
