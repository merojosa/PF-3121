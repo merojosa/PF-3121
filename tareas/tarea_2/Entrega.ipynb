{
 "cells": [
  {
   "cell_type": "markdown",
   "id": "90cf38c6-be57-4b60-b3d4-8cc9927f9bb4",
   "metadata": {},
   "source": [
    "# Introducción"
   ]
  },
  {
   "cell_type": "markdown",
   "id": "1693f57a-3955-45ef-a3e6-9c3da5f6366d",
   "metadata": {},
   "source": [
    "## Justificación\n",
    "\n",
    "https://archive-beta.ics.uci.edu/ml/datasets/adult\n",
    "\n",
    "El data set consiste en predicciones sobre si una persona en Estados Unidos generan más o menos de $50000. Más allá de lo aprendido académicamente, un beneficio que se puede obtener gracias a este data set es poder detectar qué genera desigualdad. Por ejemplo, ¿será que los modelo predicen si que una persona negra estadísticamente genera menos que una blanca como se entiende en el conocimiento popular?\n",
    "\n",
    "La idea sería tratar de analizar las predecciones que realizan los modelos con varias filas de ejemplo y así hacer un pequeño sondeo meramente arbitrario. Además, tratar de seguir patrones que nos lleven a la conclusión sobre los factores determinantes para generar más o menos de $50000, al menos para el data set usado."
   ]
  },
  {
   "cell_type": "markdown",
   "id": "1ede5186-fd75-4f19-8375-5241d93bdbc1",
   "metadata": {},
   "source": [
    "## Exploración"
   ]
  },
  {
   "cell_type": "code",
   "execution_count": 13,
   "id": "a8363238-001e-423f-a2f2-eaf93f7e9595",
   "metadata": {},
   "outputs": [],
   "source": [
    "import pandas as pd"
   ]
  },
  {
   "cell_type": "code",
   "execution_count": 14,
   "id": "ebc0b77f-878f-45b2-b89c-5133b9b4f066",
   "metadata": {},
   "outputs": [
    {
     "data": {
      "text/html": [
       "<div>\n",
       "<style scoped>\n",
       "    .dataframe tbody tr th:only-of-type {\n",
       "        vertical-align: middle;\n",
       "    }\n",
       "\n",
       "    .dataframe tbody tr th {\n",
       "        vertical-align: top;\n",
       "    }\n",
       "\n",
       "    .dataframe thead th {\n",
       "        text-align: right;\n",
       "    }\n",
       "</style>\n",
       "<table border=\"1\" class=\"dataframe\">\n",
       "  <thead>\n",
       "    <tr style=\"text-align: right;\">\n",
       "      <th></th>\n",
       "      <th>age</th>\n",
       "      <th>workclass</th>\n",
       "      <th>fnlwgt</th>\n",
       "      <th>education</th>\n",
       "      <th>education-num</th>\n",
       "      <th>marital-status</th>\n",
       "      <th>occupation</th>\n",
       "      <th>relationship</th>\n",
       "      <th>race</th>\n",
       "      <th>sex</th>\n",
       "      <th>capital-gain</th>\n",
       "      <th>capital-loss</th>\n",
       "      <th>hours-per-week</th>\n",
       "      <th>native-country</th>\n",
       "      <th>class</th>\n",
       "    </tr>\n",
       "  </thead>\n",
       "  <tbody>\n",
       "    <tr>\n",
       "      <th>0</th>\n",
       "      <td>39</td>\n",
       "      <td>State-gov</td>\n",
       "      <td>77516</td>\n",
       "      <td>Bachelors</td>\n",
       "      <td>13</td>\n",
       "      <td>Never-married</td>\n",
       "      <td>Adm-clerical</td>\n",
       "      <td>Not-in-family</td>\n",
       "      <td>White</td>\n",
       "      <td>Male</td>\n",
       "      <td>2174</td>\n",
       "      <td>0</td>\n",
       "      <td>40</td>\n",
       "      <td>United-States</td>\n",
       "      <td>&lt;=50K</td>\n",
       "    </tr>\n",
       "    <tr>\n",
       "      <th>1</th>\n",
       "      <td>50</td>\n",
       "      <td>Self-emp-not-inc</td>\n",
       "      <td>83311</td>\n",
       "      <td>Bachelors</td>\n",
       "      <td>13</td>\n",
       "      <td>Married-civ-spouse</td>\n",
       "      <td>Exec-managerial</td>\n",
       "      <td>Husband</td>\n",
       "      <td>White</td>\n",
       "      <td>Male</td>\n",
       "      <td>0</td>\n",
       "      <td>0</td>\n",
       "      <td>13</td>\n",
       "      <td>United-States</td>\n",
       "      <td>&lt;=50K</td>\n",
       "    </tr>\n",
       "    <tr>\n",
       "      <th>2</th>\n",
       "      <td>38</td>\n",
       "      <td>Private</td>\n",
       "      <td>215646</td>\n",
       "      <td>HS-grad</td>\n",
       "      <td>9</td>\n",
       "      <td>Divorced</td>\n",
       "      <td>Handlers-cleaners</td>\n",
       "      <td>Not-in-family</td>\n",
       "      <td>White</td>\n",
       "      <td>Male</td>\n",
       "      <td>0</td>\n",
       "      <td>0</td>\n",
       "      <td>40</td>\n",
       "      <td>United-States</td>\n",
       "      <td>&lt;=50K</td>\n",
       "    </tr>\n",
       "    <tr>\n",
       "      <th>3</th>\n",
       "      <td>53</td>\n",
       "      <td>Private</td>\n",
       "      <td>234721</td>\n",
       "      <td>11th</td>\n",
       "      <td>7</td>\n",
       "      <td>Married-civ-spouse</td>\n",
       "      <td>Handlers-cleaners</td>\n",
       "      <td>Husband</td>\n",
       "      <td>Black</td>\n",
       "      <td>Male</td>\n",
       "      <td>0</td>\n",
       "      <td>0</td>\n",
       "      <td>40</td>\n",
       "      <td>United-States</td>\n",
       "      <td>&lt;=50K</td>\n",
       "    </tr>\n",
       "    <tr>\n",
       "      <th>4</th>\n",
       "      <td>28</td>\n",
       "      <td>Private</td>\n",
       "      <td>338409</td>\n",
       "      <td>Bachelors</td>\n",
       "      <td>13</td>\n",
       "      <td>Married-civ-spouse</td>\n",
       "      <td>Prof-specialty</td>\n",
       "      <td>Wife</td>\n",
       "      <td>Black</td>\n",
       "      <td>Female</td>\n",
       "      <td>0</td>\n",
       "      <td>0</td>\n",
       "      <td>40</td>\n",
       "      <td>Cuba</td>\n",
       "      <td>&lt;=50K</td>\n",
       "    </tr>\n",
       "  </tbody>\n",
       "</table>\n",
       "</div>"
      ],
      "text/plain": [
       "   age          workclass  fnlwgt   education  education-num  \\\n",
       "0   39          State-gov   77516   Bachelors             13   \n",
       "1   50   Self-emp-not-inc   83311   Bachelors             13   \n",
       "2   38            Private  215646     HS-grad              9   \n",
       "3   53            Private  234721        11th              7   \n",
       "4   28            Private  338409   Bachelors             13   \n",
       "\n",
       "        marital-status          occupation    relationship    race      sex  \\\n",
       "0        Never-married        Adm-clerical   Not-in-family   White     Male   \n",
       "1   Married-civ-spouse     Exec-managerial         Husband   White     Male   \n",
       "2             Divorced   Handlers-cleaners   Not-in-family   White     Male   \n",
       "3   Married-civ-spouse   Handlers-cleaners         Husband   Black     Male   \n",
       "4   Married-civ-spouse      Prof-specialty            Wife   Black   Female   \n",
       "\n",
       "   capital-gain  capital-loss  hours-per-week  native-country   class  \n",
       "0          2174             0              40   United-States   <=50K  \n",
       "1             0             0              13   United-States   <=50K  \n",
       "2             0             0              40   United-States   <=50K  \n",
       "3             0             0              40   United-States   <=50K  \n",
       "4             0             0              40            Cuba   <=50K  "
      ]
     },
     "execution_count": 14,
     "metadata": {},
     "output_type": "execute_result"
    }
   ],
   "source": [
    "PREDICTORS = [\"age\", \"workclass\", \"fnlwgt\", \"education\", \"education-num\", \"marital-status\", \n",
    "                                        \"occupation\", \"relationship\", \"race\", \"sex\", \"capital-gain\",\n",
    "                                        \"capital-loss\", \"hours-per-week\", \"native-country\"]\n",
    "PREDICTORS_STRING = [\"workclass\", \"education\", \"marital-status\", \"occupation\", \"relationship\", \"race\", \"sex\", \"native-country\"]\n",
    "PREDICTORS_INT = [\"age\", \"fnlwgt\", \"capital-gain\", \"capital-loss\", \"hours-per-week\"]\n",
    "TARGET_VARIABLE = \"class\"\n",
    "\n",
    "data = pd.read_csv('adult.data', names=[\"age\", \"workclass\", \"fnlwgt\", \"education\", \"education-num\", \"marital-status\", \n",
    "                                        \"occupation\", \"relationship\", \"race\", \"sex\", \"capital-gain\",\n",
    "                                        \"capital-loss\", \"hours-per-week\", \"native-country\", \"class\"])\n",
    "data.head()"
   ]
  },
  {
   "cell_type": "code",
   "execution_count": 16,
   "id": "926c1dad-d48b-4744-9dff-99eb33599506",
   "metadata": {},
   "outputs": [
    {
     "name": "stdout",
     "output_type": "stream",
     "text": [
      "<class 'pandas.core.frame.DataFrame'>\n",
      "RangeIndex: 32561 entries, 0 to 32560\n",
      "Data columns (total 15 columns):\n",
      " #   Column          Non-Null Count  Dtype \n",
      "---  ------          --------------  ----- \n",
      " 0   age             32561 non-null  int64 \n",
      " 1   workclass       32561 non-null  object\n",
      " 2   fnlwgt          32561 non-null  int64 \n",
      " 3   education       32561 non-null  object\n",
      " 4   education-num   32561 non-null  int64 \n",
      " 5   marital-status  32561 non-null  object\n",
      " 6   occupation      32561 non-null  object\n",
      " 7   relationship    32561 non-null  object\n",
      " 8   race            32561 non-null  object\n",
      " 9   sex             32561 non-null  object\n",
      " 10  capital-gain    32561 non-null  int64 \n",
      " 11  capital-loss    32561 non-null  int64 \n",
      " 12  hours-per-week  32561 non-null  int64 \n",
      " 13  native-country  32561 non-null  object\n",
      " 14  class           32561 non-null  object\n",
      "dtypes: int64(6), object(9)\n",
      "memory usage: 3.7+ MB\n"
     ]
    },
    {
     "data": {
      "text/plain": [
       "age                              90\n",
       "workclass               Without-pay\n",
       "fnlwgt                      1484705\n",
       "education              Some-college\n",
       "education-num                    16\n",
       "marital-status              Widowed\n",
       "occupation         Transport-moving\n",
       "relationship                   Wife\n",
       "race                          White\n",
       "sex                            Male\n",
       "capital-gain                  99999\n",
       "capital-loss                   4356\n",
       "hours-per-week                   99\n",
       "native-country           Yugoslavia\n",
       "class                          >50K\n",
       "dtype: object"
      ]
     },
     "execution_count": 16,
     "metadata": {},
     "output_type": "execute_result"
    }
   ],
   "source": [
    "data.info()"
   ]
  },
  {
   "cell_type": "code",
   "execution_count": 17,
   "id": "4323a4b5-0029-4e97-b9c7-f34e7673586f",
   "metadata": {},
   "outputs": [
    {
     "data": {
      "text/plain": [
       "age                              90\n",
       "workclass               Without-pay\n",
       "fnlwgt                      1484705\n",
       "education              Some-college\n",
       "education-num                    16\n",
       "marital-status              Widowed\n",
       "occupation         Transport-moving\n",
       "relationship                   Wife\n",
       "race                          White\n",
       "sex                            Male\n",
       "capital-gain                  99999\n",
       "capital-loss                   4356\n",
       "hours-per-week                   99\n",
       "native-country           Yugoslavia\n",
       "class                          >50K\n",
       "dtype: object"
      ]
     },
     "execution_count": 17,
     "metadata": {},
     "output_type": "execute_result"
    }
   ],
   "source": [
    "data.max()"
   ]
  },
  {
   "cell_type": "code",
   "execution_count": 18,
   "id": "667b2153-8752-4542-951a-e70e8a5f2f5a",
   "metadata": {},
   "outputs": [
    {
     "data": {
      "text/plain": [
       "age                                17\n",
       "workclass                           ?\n",
       "fnlwgt                          12285\n",
       "education                        10th\n",
       "education-num                       1\n",
       "marital-status               Divorced\n",
       "occupation                          ?\n",
       "relationship                  Husband\n",
       "race               Amer-Indian-Eskimo\n",
       "sex                            Female\n",
       "capital-gain                        0\n",
       "capital-loss                        0\n",
       "hours-per-week                      1\n",
       "native-country                      ?\n",
       "class                           <=50K\n",
       "dtype: object"
      ]
     },
     "execution_count": 18,
     "metadata": {},
     "output_type": "execute_result"
    }
   ],
   "source": [
    "data.min()"
   ]
  },
  {
   "cell_type": "code",
   "execution_count": 21,
   "id": "017f6476-7b96-4452-9cd9-15399dc95998",
   "metadata": {},
   "outputs": [
    {
     "data": {
      "text/plain": [
       "38.58164675532078"
      ]
     },
     "execution_count": 21,
     "metadata": {},
     "output_type": "execute_result"
    }
   ],
   "source": [
    "data[\"age\"].mean()"
   ]
  },
  {
   "cell_type": "markdown",
   "id": "5b253ca6-03d5-41b4-a636-f6e133dbec74",
   "metadata": {},
   "source": [
    "Dos interpretaciones que podemos realizar con base en estos dos métodos simples exploratorios son sumamente sencillos para la limpieza de datos:\n",
    "    \n",
    "1. Algunas columnas no son de números, por lo que habrá que manipular los datos para convertirlos en enteros y luego ejecutar el algoritmo respectivo.\n",
    "2. Se está tomando en cuenta personas menores de edad (17 años). Además, la mediana es de 38 años."
   ]
  },
  {
   "cell_type": "markdown",
   "id": "acb4e58d-f7c3-43e5-b4da-a7b5633456f2",
   "metadata": {},
   "source": [
    "## Limpieza de datos"
   ]
  },
  {
   "cell_type": "markdown",
   "id": "513c4573-492c-4dbf-a9d4-498b5c8a24fe",
   "metadata": {},
   "source": [
    "## Modularizar conversión de datos string a enteros\n",
    "Es necesario convertir esos valores a enteros para poder ejecutar el algoritmo."
   ]
  },
  {
   "cell_type": "code",
   "execution_count": 10,
   "id": "9de11bd6-6ee3-4339-acc1-ae42943ea0a3",
   "metadata": {},
   "outputs": [],
   "source": [
    "def from_string_to_int(key, data_set):\n",
    "    data_set[key],class_names = pd.factorize(data_set[key])\n",
    "    return class_names"
   ]
  },
  {
   "cell_type": "markdown",
   "id": "cc22724d-fe3a-499e-a642-0ba353d09eb5",
   "metadata": {
    "tags": []
   },
   "source": [
    "## Target a string"
   ]
  },
  {
   "cell_type": "code",
   "execution_count": 11,
   "id": "c07cac17-717d-4dc8-8e20-a69793a755b3",
   "metadata": {},
   "outputs": [
    {
     "name": "stdout",
     "output_type": "stream",
     "text": [
      "Index([' <=50K', ' >50K'], dtype='object')\n",
      "[0 1]\n"
     ]
    }
   ],
   "source": [
    "class_names = from_string_to_int(TARGET_VARIABLE, data)\n",
    "print(class_names)\n",
    "print(data[TARGET_VARIABLE].unique())"
   ]
  },
  {
   "cell_type": "markdown",
   "id": "fff1e976-b90b-4f81-bcd8-5587f2237cf7",
   "metadata": {},
   "source": [
    "## Demás atributos a string"
   ]
  },
  {
   "cell_type": "code",
   "execution_count": 12,
   "id": "ef4f1818-8c26-49f8-9dfb-5b0f9c611f37",
   "metadata": {},
   "outputs": [
    {
     "name": "stdout",
     "output_type": "stream",
     "text": [
      "<class 'pandas.core.frame.DataFrame'>\n",
      "RangeIndex: 32561 entries, 0 to 32560\n",
      "Data columns (total 15 columns):\n",
      " #   Column          Non-Null Count  Dtype\n",
      "---  ------          --------------  -----\n",
      " 0   age             32561 non-null  int64\n",
      " 1   workclass       32561 non-null  int64\n",
      " 2   fnlwgt          32561 non-null  int64\n",
      " 3   education       32561 non-null  int64\n",
      " 4   education-num   32561 non-null  int64\n",
      " 5   marital-status  32561 non-null  int64\n",
      " 6   occupation      32561 non-null  int64\n",
      " 7   relationship    32561 non-null  int64\n",
      " 8   race            32561 non-null  int64\n",
      " 9   sex             32561 non-null  int64\n",
      " 10  capital-gain    32561 non-null  int64\n",
      " 11  capital-loss    32561 non-null  int64\n",
      " 12  hours-per-week  32561 non-null  int64\n",
      " 13  native-country  32561 non-null  int64\n",
      " 14  class           32561 non-null  int64\n",
      "dtypes: int64(15)\n",
      "memory usage: 3.7 MB\n"
     ]
    }
   ],
   "source": [
    "for predictor in PREDICTORS_STRING:\n",
    "    from_string_to_int(predictor, data)\n",
    "\n",
    "data.info()"
   ]
  },
  {
   "cell_type": "markdown",
   "id": "f7a82a4f-342f-4fe2-98d9-066907e48d33",
   "metadata": {},
   "source": [
    "## Tres atributos importantes\n",
    "\n",
    "De acuerdo con las predicciones hechas, los atributos más determinantes fueron education, workclass, y occupation."
   ]
  },
  {
   "cell_type": "code",
   "execution_count": null,
   "id": "3dc5c065-8093-4c3d-935d-6e78263cb26b",
   "metadata": {},
   "outputs": [],
   "source": []
  }
 ],
 "metadata": {
  "kernelspec": {
   "display_name": "Python 3 (ipykernel)",
   "language": "python",
   "name": "python3"
  },
  "language_info": {
   "codemirror_mode": {
    "name": "ipython",
    "version": 3
   },
   "file_extension": ".py",
   "mimetype": "text/x-python",
   "name": "python",
   "nbconvert_exporter": "python",
   "pygments_lexer": "ipython3",
   "version": "3.9.7"
  }
 },
 "nbformat": 4,
 "nbformat_minor": 5
}
