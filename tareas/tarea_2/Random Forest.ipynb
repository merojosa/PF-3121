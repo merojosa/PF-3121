{
 "cells": [
  {
   "cell_type": "markdown",
   "id": "7b9ca1f5-a13a-4127-950c-04413130944a",
   "metadata": {},
   "source": [
    "# Random Forest"
   ]
  },
  {
   "cell_type": "markdown",
   "id": "bb10c6f3-c7b9-408b-a97f-58c65735f698",
   "metadata": {},
   "source": [
    "## Preparación de datos explicados en Introducción"
   ]
  },
  {
   "cell_type": "code",
   "execution_count": 8,
   "id": "a8363238-001e-423f-a2f2-eaf93f7e9595",
   "metadata": {},
   "outputs": [],
   "source": []
  },
  {
   "cell_type": "code",
   "execution_count": 14,
   "id": "ebc0b77f-878f-45b2-b89c-5133b9b4f066",
   "metadata": {},
   "outputs": [],
   "source": [
    "import pandas as pd\n",
    "from sklearn import  metrics, model_selection\n",
    "from sklearn.ensemble import RandomForestClassifier\n",
    "from numpy import asarray\n",
    "\n",
    "PREDICTORS = [\"age\", \"workclass\", \"fnlwgt\", \"education\", \"education-num\", \"marital-status\", \n",
    "                                        \"occupation\", \"relationship\", \"race\", \"sex\", \"capital-gain\",\n",
    "                                        \"capital-loss\", \"hours-per-week\", \"native-country\"]\n",
    "PREDICTORS_STRING = [\"workclass\", \"education\", \"marital-status\", \"occupation\", \"relationship\", \"race\", \"sex\", \"native-country\"]\n",
    "PREDICTORS_INT = [\"age\", \"fnlwgt\", \"capital-gain\", \"capital-loss\", \"hours-per-week\"]\n",
    "TARGET_VARIABLE = \"class\"\n",
    "\n",
    "data = pd.read_csv('adult.data', names=[\"age\", \"workclass\", \"fnlwgt\", \"education\", \"education-num\", \"marital-status\", \n",
    "                                        \"occupation\", \"relationship\", \"race\", \"sex\", \"capital-gain\",\n",
    "                                        \"capital-loss\", \"hours-per-week\", \"native-country\", \"class\"])\n",
    "def from_string_to_int(key, data_set):\n",
    "    data_set[key],class_names = pd.factorize(data_set[key])\n",
    "    return class_names\n",
    "\n",
    "from_string_to_int(TARGET_VARIABLE, data)\n",
    "for predictor in PREDICTORS_STRING:\n",
    "    from_string_to_int(predictor, data)\n",
    "\n",
    "features = data.iloc[:,:-1]\n",
    "target = data.iloc[:,-1]\n",
    "features_train, features_test, target_train, target_test = model_selection.train_test_split(features, target, test_size=0.3, random_state=777)"
   ]
  },
  {
   "cell_type": "markdown",
   "id": "47373968-a004-4620-b267-20119a6e1a86",
   "metadata": {},
   "source": [
    "## Entrenar"
   ]
  },
  {
   "cell_type": "code",
   "execution_count": 20,
   "id": "f13c2b7d-6afe-48f7-a8ed-7e1e10790748",
   "metadata": {},
   "outputs": [],
   "source": [
    "model1 = RandomForestClassifier(max_samples=0.2, max_features=2, n_estimators=10, max_depth=2).fit(features_train, target_train)\n",
    "model2 = RandomForestClassifier(max_samples=0.5, max_features=6, n_estimators=50, max_depth=4).fit(features_train, target_train)\n",
    "default_model = RandomForestClassifier().fit(features_train, target_train)"
   ]
  },
  {
   "cell_type": "markdown",
   "id": "28ef76a9-6318-4478-9ed4-4a3a9cef0039",
   "metadata": {},
   "source": [
    "## Precisión"
   ]
  },
  {
   "cell_type": "code",
   "execution_count": 25,
   "id": "d0d98c37-1dd8-467c-980f-b08e49608255",
   "metadata": {},
   "outputs": [
    {
     "name": "stdout",
     "output_type": "stream",
     "text": [
      "Prediction 1\n",
      "Misclassified samples: 2331\n",
      "Accuracy: 0.76\n",
      "Prediction 2\n",
      "Misclassified samples: 1494\n",
      "Accuracy: 0.85\n",
      "Prediction default\n",
      "Misclassified samples: 1388\n",
      "Accuracy: 0.86\n"
     ]
    }
   ],
   "source": [
    "prediction1 = model1.predict(features_test)\n",
    "prediction2 = model2.predict(features_test)\n",
    "prediction_default = default_model.predict(features_test)\n",
    "\n",
    "def print_numbers(name, prediction):\n",
    "    count_misclassified = (target_test != prediction).sum()\n",
    "    print(name)\n",
    "    print('Misclassified samples: {}'.format(count_misclassified))\n",
    "    accuracy = metrics.accuracy_score(target_test, prediction)\n",
    "    print('Accuracy: {:.2f}'.format(accuracy))\n",
    "    \n",
    "print_numbers(\"Prediction 1\", prediction1)\n",
    "print_numbers(\"Prediction 2\", prediction2)\n",
    "print_numbers(\"Prediction default\", prediction_default)"
   ]
  },
  {
   "cell_type": "markdown",
   "id": "be3145d3-654f-49d6-ab9c-445da1d6cfd9",
   "metadata": {},
   "source": [
    "## Predicciones"
   ]
  },
  {
   "cell_type": "code",
   "execution_count": 26,
   "id": "383aae40-0acc-45fe-9466-b6378bd52fac",
   "metadata": {},
   "outputs": [
    {
     "data": {
      "text/html": [
       "<div>\n",
       "<style scoped>\n",
       "    .dataframe tbody tr th:only-of-type {\n",
       "        vertical-align: middle;\n",
       "    }\n",
       "\n",
       "    .dataframe tbody tr th {\n",
       "        vertical-align: top;\n",
       "    }\n",
       "\n",
       "    .dataframe thead th {\n",
       "        text-align: right;\n",
       "    }\n",
       "</style>\n",
       "<table border=\"1\" class=\"dataframe\">\n",
       "  <thead>\n",
       "    <tr style=\"text-align: right;\">\n",
       "      <th></th>\n",
       "      <th>age</th>\n",
       "      <th>workclass</th>\n",
       "      <th>fnlwgt</th>\n",
       "      <th>education</th>\n",
       "      <th>education-num</th>\n",
       "      <th>marital-status</th>\n",
       "      <th>occupation</th>\n",
       "      <th>relationship</th>\n",
       "      <th>race</th>\n",
       "      <th>sex</th>\n",
       "      <th>capital-gain</th>\n",
       "      <th>capital-loss</th>\n",
       "      <th>hours-per-week</th>\n",
       "      <th>native-country</th>\n",
       "      <th>Target</th>\n",
       "      <th>Prediction</th>\n",
       "    </tr>\n",
       "  </thead>\n",
       "  <tbody>\n",
       "    <tr>\n",
       "      <th>29305</th>\n",
       "      <td>32</td>\n",
       "      <td>2</td>\n",
       "      <td>130040</td>\n",
       "      <td>1</td>\n",
       "      <td>9</td>\n",
       "      <td>2</td>\n",
       "      <td>2</td>\n",
       "      <td>0</td>\n",
       "      <td>0</td>\n",
       "      <td>0</td>\n",
       "      <td>0</td>\n",
       "      <td>0</td>\n",
       "      <td>40</td>\n",
       "      <td>0</td>\n",
       "      <td>0</td>\n",
       "      <td>0</td>\n",
       "    </tr>\n",
       "    <tr>\n",
       "      <th>4110</th>\n",
       "      <td>25</td>\n",
       "      <td>2</td>\n",
       "      <td>186294</td>\n",
       "      <td>1</td>\n",
       "      <td>9</td>\n",
       "      <td>0</td>\n",
       "      <td>0</td>\n",
       "      <td>0</td>\n",
       "      <td>0</td>\n",
       "      <td>1</td>\n",
       "      <td>0</td>\n",
       "      <td>0</td>\n",
       "      <td>50</td>\n",
       "      <td>0</td>\n",
       "      <td>0</td>\n",
       "      <td>0</td>\n",
       "    </tr>\n",
       "    <tr>\n",
       "      <th>12044</th>\n",
       "      <td>39</td>\n",
       "      <td>2</td>\n",
       "      <td>237943</td>\n",
       "      <td>0</td>\n",
       "      <td>13</td>\n",
       "      <td>1</td>\n",
       "      <td>5</td>\n",
       "      <td>1</td>\n",
       "      <td>0</td>\n",
       "      <td>0</td>\n",
       "      <td>0</td>\n",
       "      <td>0</td>\n",
       "      <td>30</td>\n",
       "      <td>0</td>\n",
       "      <td>1</td>\n",
       "      <td>0</td>\n",
       "    </tr>\n",
       "    <tr>\n",
       "      <th>17027</th>\n",
       "      <td>78</td>\n",
       "      <td>6</td>\n",
       "      <td>237294</td>\n",
       "      <td>1</td>\n",
       "      <td>9</td>\n",
       "      <td>6</td>\n",
       "      <td>5</td>\n",
       "      <td>0</td>\n",
       "      <td>0</td>\n",
       "      <td>0</td>\n",
       "      <td>0</td>\n",
       "      <td>0</td>\n",
       "      <td>45</td>\n",
       "      <td>0</td>\n",
       "      <td>1</td>\n",
       "      <td>0</td>\n",
       "    </tr>\n",
       "    <tr>\n",
       "      <th>5821</th>\n",
       "      <td>53</td>\n",
       "      <td>2</td>\n",
       "      <td>157069</td>\n",
       "      <td>6</td>\n",
       "      <td>12</td>\n",
       "      <td>1</td>\n",
       "      <td>9</td>\n",
       "      <td>1</td>\n",
       "      <td>0</td>\n",
       "      <td>0</td>\n",
       "      <td>0</td>\n",
       "      <td>0</td>\n",
       "      <td>40</td>\n",
       "      <td>0</td>\n",
       "      <td>1</td>\n",
       "      <td>0</td>\n",
       "    </tr>\n",
       "  </tbody>\n",
       "</table>\n",
       "</div>"
      ],
      "text/plain": [
       "       age  workclass  fnlwgt  education  education-num  marital-status  \\\n",
       "29305   32          2  130040          1              9               2   \n",
       "4110    25          2  186294          1              9               0   \n",
       "12044   39          2  237943          0             13               1   \n",
       "17027   78          6  237294          1              9               6   \n",
       "5821    53          2  157069          6             12               1   \n",
       "\n",
       "       occupation  relationship  race  sex  capital-gain  capital-loss  \\\n",
       "29305           2             0     0    0             0             0   \n",
       "4110            0             0     0    1             0             0   \n",
       "12044           5             1     0    0             0             0   \n",
       "17027           5             0     0    0             0             0   \n",
       "5821            9             1     0    0             0             0   \n",
       "\n",
       "       hours-per-week  native-country  Target  Prediction  \n",
       "29305              40               0       0           0  \n",
       "4110               50               0       0           0  \n",
       "12044              30               0       1           0  \n",
       "17027              45               0       1           0  \n",
       "5821               40               0       1           0  "
      ]
     },
     "execution_count": 26,
     "metadata": {},
     "output_type": "execute_result"
    }
   ],
   "source": [
    "test_prediction=pd.DataFrame(data=features_test, columns=PREDICTORS)\n",
    "test_prediction['Target']=target_test\n",
    "test_prediction['Prediction']=prediction_default\n",
    "test_prediction.head()"
   ]
  },
  {
   "cell_type": "code",
   "execution_count": 27,
   "id": "fae85d6f-3730-4ab1-b2e2-5614b7681123",
   "metadata": {},
   "outputs": [
    {
     "name": "stdout",
     "output_type": "stream",
     "text": [
      "Prediction greater: >50K\n",
      "Prediction less: <=50K\n"
     ]
    }
   ],
   "source": [
    "def get_predicted_class_name(class_number):\n",
    "    if(class_number == 0):\n",
    "        return \"<=50K\"\n",
    "    return \">50K\"\n",
    "\n",
    "#Greater data: 37, Private, 280464, Some-college, 10, Married-civ-spouse,Exec-managerial, Husband, Black, Male, 0, 0, 80, United-States, >50K\n",
    "custom_row_greater = [37,2,280464,5, 10, 1, 1,1,1, 0, 0,0, 80, 0]\n",
    "custom_row_greater = asarray([custom_row_greater])\n",
    "yhat_greater = default_model.predict(custom_row_greater)\n",
    "print('Prediction greater: %s' % get_predicted_class_name(yhat_greater[0]))\n",
    "\n",
    "#Less data: 49, Private, 160187, 9th, 5, Married-spouse-absent, Other-service, Not-in-family, Black, Female, 0, 0, 16, Jamaica, <=50K\n",
    "custom_row_less = [49,2,160187,4,5, 3, 4, 0, 1, 1, 0, 0, 16, 2]\n",
    "custom_row_less = asarray([custom_row_less])\n",
    "yhat_less = default_model.predict(custom_row_less)\n",
    "print('Prediction less: %s' % get_predicted_class_name(yhat_less[0]))"
   ]
  },
  {
   "cell_type": "code",
   "execution_count": null,
   "id": "7e66f52a-c8bc-4493-9f93-9b5d426c665a",
   "metadata": {},
   "outputs": [],
   "source": []
  }
 ],
 "metadata": {
  "kernelspec": {
   "display_name": "Python 3 (ipykernel)",
   "language": "python",
   "name": "python3"
  },
  "language_info": {
   "codemirror_mode": {
    "name": "ipython",
    "version": 3
   },
   "file_extension": ".py",
   "mimetype": "text/x-python",
   "name": "python",
   "nbconvert_exporter": "python",
   "pygments_lexer": "ipython3",
   "version": "3.9.7"
  }
 },
 "nbformat": 4,
 "nbformat_minor": 5
}
