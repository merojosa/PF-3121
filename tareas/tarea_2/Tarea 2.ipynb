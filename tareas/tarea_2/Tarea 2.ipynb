{
 "cells": [
  {
   "cell_type": "code",
   "execution_count": 1,
   "id": "a8363238-001e-423f-a2f2-eaf93f7e9595",
   "metadata": {},
   "outputs": [],
   "source": [
    "import os\n",
    "import numpy as np, pandas as pd\n",
    "import matplotlib.pyplot as plt\n",
    "from sklearn import  metrics, model_selection\n",
    "from xgboost.sklearn import XGBClassifier\n",
    "from sklearn.preprocessing import LabelEncoder"
   ]
  },
  {
   "cell_type": "code",
   "execution_count": 2,
   "id": "ebc0b77f-878f-45b2-b89c-5133b9b4f066",
   "metadata": {},
   "outputs": [
    {
     "data": {
      "text/html": [
       "<div>\n",
       "<style scoped>\n",
       "    .dataframe tbody tr th:only-of-type {\n",
       "        vertical-align: middle;\n",
       "    }\n",
       "\n",
       "    .dataframe tbody tr th {\n",
       "        vertical-align: top;\n",
       "    }\n",
       "\n",
       "    .dataframe thead th {\n",
       "        text-align: right;\n",
       "    }\n",
       "</style>\n",
       "<table border=\"1\" class=\"dataframe\">\n",
       "  <thead>\n",
       "    <tr style=\"text-align: right;\">\n",
       "      <th></th>\n",
       "      <th>age</th>\n",
       "      <th>workclass</th>\n",
       "      <th>fnlwgt</th>\n",
       "      <th>education</th>\n",
       "      <th>education-num</th>\n",
       "      <th>marital-status</th>\n",
       "      <th>occupation</th>\n",
       "      <th>relationship</th>\n",
       "      <th>race</th>\n",
       "      <th>sex</th>\n",
       "      <th>capital-gain</th>\n",
       "      <th>capital-loss</th>\n",
       "      <th>hours-per-week</th>\n",
       "      <th>native-country</th>\n",
       "      <th>class</th>\n",
       "    </tr>\n",
       "  </thead>\n",
       "  <tbody>\n",
       "    <tr>\n",
       "      <th>0</th>\n",
       "      <td>39</td>\n",
       "      <td>State-gov</td>\n",
       "      <td>77516</td>\n",
       "      <td>Bachelors</td>\n",
       "      <td>13</td>\n",
       "      <td>Never-married</td>\n",
       "      <td>Adm-clerical</td>\n",
       "      <td>Not-in-family</td>\n",
       "      <td>White</td>\n",
       "      <td>Male</td>\n",
       "      <td>2174</td>\n",
       "      <td>0</td>\n",
       "      <td>40</td>\n",
       "      <td>United-States</td>\n",
       "      <td>&lt;=50K</td>\n",
       "    </tr>\n",
       "    <tr>\n",
       "      <th>1</th>\n",
       "      <td>50</td>\n",
       "      <td>Self-emp-not-inc</td>\n",
       "      <td>83311</td>\n",
       "      <td>Bachelors</td>\n",
       "      <td>13</td>\n",
       "      <td>Married-civ-spouse</td>\n",
       "      <td>Exec-managerial</td>\n",
       "      <td>Husband</td>\n",
       "      <td>White</td>\n",
       "      <td>Male</td>\n",
       "      <td>0</td>\n",
       "      <td>0</td>\n",
       "      <td>13</td>\n",
       "      <td>United-States</td>\n",
       "      <td>&lt;=50K</td>\n",
       "    </tr>\n",
       "    <tr>\n",
       "      <th>2</th>\n",
       "      <td>38</td>\n",
       "      <td>Private</td>\n",
       "      <td>215646</td>\n",
       "      <td>HS-grad</td>\n",
       "      <td>9</td>\n",
       "      <td>Divorced</td>\n",
       "      <td>Handlers-cleaners</td>\n",
       "      <td>Not-in-family</td>\n",
       "      <td>White</td>\n",
       "      <td>Male</td>\n",
       "      <td>0</td>\n",
       "      <td>0</td>\n",
       "      <td>40</td>\n",
       "      <td>United-States</td>\n",
       "      <td>&lt;=50K</td>\n",
       "    </tr>\n",
       "    <tr>\n",
       "      <th>3</th>\n",
       "      <td>53</td>\n",
       "      <td>Private</td>\n",
       "      <td>234721</td>\n",
       "      <td>11th</td>\n",
       "      <td>7</td>\n",
       "      <td>Married-civ-spouse</td>\n",
       "      <td>Handlers-cleaners</td>\n",
       "      <td>Husband</td>\n",
       "      <td>Black</td>\n",
       "      <td>Male</td>\n",
       "      <td>0</td>\n",
       "      <td>0</td>\n",
       "      <td>40</td>\n",
       "      <td>United-States</td>\n",
       "      <td>&lt;=50K</td>\n",
       "    </tr>\n",
       "    <tr>\n",
       "      <th>4</th>\n",
       "      <td>28</td>\n",
       "      <td>Private</td>\n",
       "      <td>338409</td>\n",
       "      <td>Bachelors</td>\n",
       "      <td>13</td>\n",
       "      <td>Married-civ-spouse</td>\n",
       "      <td>Prof-specialty</td>\n",
       "      <td>Wife</td>\n",
       "      <td>Black</td>\n",
       "      <td>Female</td>\n",
       "      <td>0</td>\n",
       "      <td>0</td>\n",
       "      <td>40</td>\n",
       "      <td>Cuba</td>\n",
       "      <td>&lt;=50K</td>\n",
       "    </tr>\n",
       "  </tbody>\n",
       "</table>\n",
       "</div>"
      ],
      "text/plain": [
       "   age          workclass  fnlwgt   education  education-num  \\\n",
       "0   39          State-gov   77516   Bachelors             13   \n",
       "1   50   Self-emp-not-inc   83311   Bachelors             13   \n",
       "2   38            Private  215646     HS-grad              9   \n",
       "3   53            Private  234721        11th              7   \n",
       "4   28            Private  338409   Bachelors             13   \n",
       "\n",
       "        marital-status          occupation    relationship    race      sex  \\\n",
       "0        Never-married        Adm-clerical   Not-in-family   White     Male   \n",
       "1   Married-civ-spouse     Exec-managerial         Husband   White     Male   \n",
       "2             Divorced   Handlers-cleaners   Not-in-family   White     Male   \n",
       "3   Married-civ-spouse   Handlers-cleaners         Husband   Black     Male   \n",
       "4   Married-civ-spouse      Prof-specialty            Wife   Black   Female   \n",
       "\n",
       "   capital-gain  capital-loss  hours-per-week  native-country   class  \n",
       "0          2174             0              40   United-States   <=50K  \n",
       "1             0             0              13   United-States   <=50K  \n",
       "2             0             0              40   United-States   <=50K  \n",
       "3             0             0              40   United-States   <=50K  \n",
       "4             0             0              40            Cuba   <=50K  "
      ]
     },
     "execution_count": 2,
     "metadata": {},
     "output_type": "execute_result"
    }
   ],
   "source": [
    "data = pd.read_csv('adult.data', names=[\"age\", \"workclass\", \"fnlwgt\", \"education\", \"education-num\", \"marital-status\", \n",
    "                                        \"occupation\", \"relationship\", \"race\", \"sex\", \"capital-gain\",\n",
    "                                        \"capital-loss\", \"hours-per-week\", \"native-country\", \"class\"])\n",
    "data.head()"
   ]
  },
  {
   "cell_type": "code",
   "execution_count": 3,
   "id": "7b45150a-115d-4007-9d00-a75d5fb46237",
   "metadata": {},
   "outputs": [
    {
     "name": "stdout",
     "output_type": "stream",
     "text": [
      "<class 'pandas.core.frame.DataFrame'>\n",
      "RangeIndex: 32561 entries, 0 to 32560\n",
      "Data columns (total 15 columns):\n",
      " #   Column          Non-Null Count  Dtype \n",
      "---  ------          --------------  ----- \n",
      " 0   age             32561 non-null  int64 \n",
      " 1   workclass       32561 non-null  object\n",
      " 2   fnlwgt          32561 non-null  int64 \n",
      " 3   education       32561 non-null  object\n",
      " 4   education-num   32561 non-null  int64 \n",
      " 5   marital-status  32561 non-null  object\n",
      " 6   occupation      32561 non-null  object\n",
      " 7   relationship    32561 non-null  object\n",
      " 8   race            32561 non-null  object\n",
      " 9   sex             32561 non-null  object\n",
      " 10  capital-gain    32561 non-null  int64 \n",
      " 11  capital-loss    32561 non-null  int64 \n",
      " 12  hours-per-week  32561 non-null  int64 \n",
      " 13  native-country  32561 non-null  object\n",
      " 14  class           32561 non-null  object\n",
      "dtypes: int64(6), object(9)\n",
      "memory usage: 3.7+ MB\n"
     ]
    }
   ],
   "source": [
    "data.info()"
   ]
  },
  {
   "cell_type": "markdown",
   "id": "513c4573-492c-4dbf-a9d4-498b5c8a24fe",
   "metadata": {},
   "source": [
    "## Modularizar conversión de datos string a enteros"
   ]
  },
  {
   "cell_type": "code",
   "execution_count": 4,
   "id": "9de11bd6-6ee3-4339-acc1-ae42943ea0a3",
   "metadata": {},
   "outputs": [],
   "source": [
    "def from_string_to_int(key, data_set):\n",
    "    data_set[key],class_names = pd.factorize(data_set[key])\n",
    "    return class_names"
   ]
  },
  {
   "cell_type": "markdown",
   "id": "cc22724d-fe3a-499e-a642-0ba353d09eb5",
   "metadata": {
    "tags": []
   },
   "source": [
    "## Target a string"
   ]
  },
  {
   "cell_type": "code",
   "execution_count": 5,
   "id": "c07cac17-717d-4dc8-8e20-a69793a755b3",
   "metadata": {},
   "outputs": [
    {
     "name": "stdout",
     "output_type": "stream",
     "text": [
      "Index([' <=50K', ' >50K'], dtype='object')\n",
      "[0 1]\n"
     ]
    }
   ],
   "source": [
    "class_names = from_string_to_int(\"class\", data)\n",
    "print(class_names)\n",
    "print(data['class'].unique())"
   ]
  },
  {
   "cell_type": "markdown",
   "id": "fff1e976-b90b-4f81-bcd8-5587f2237cf7",
   "metadata": {},
   "source": [
    "## Demás atributos a string"
   ]
  },
  {
   "cell_type": "code",
   "execution_count": 6,
   "id": "ef4f1818-8c26-49f8-9dfb-5b0f9c611f37",
   "metadata": {},
   "outputs": [
    {
     "name": "stdout",
     "output_type": "stream",
     "text": [
      "<class 'pandas.core.frame.DataFrame'>\n",
      "RangeIndex: 32561 entries, 0 to 32560\n",
      "Data columns (total 15 columns):\n",
      " #   Column          Non-Null Count  Dtype\n",
      "---  ------          --------------  -----\n",
      " 0   age             32561 non-null  int64\n",
      " 1   workclass       32561 non-null  int64\n",
      " 2   fnlwgt          32561 non-null  int64\n",
      " 3   education       32561 non-null  int64\n",
      " 4   education-num   32561 non-null  int64\n",
      " 5   marital-status  32561 non-null  int64\n",
      " 6   occupation      32561 non-null  int64\n",
      " 7   relationship    32561 non-null  int64\n",
      " 8   race            32561 non-null  int64\n",
      " 9   sex             32561 non-null  int64\n",
      " 10  capital-gain    32561 non-null  int64\n",
      " 11  capital-loss    32561 non-null  int64\n",
      " 12  hours-per-week  32561 non-null  int64\n",
      " 13  native-country  32561 non-null  int64\n",
      " 14  class           32561 non-null  int64\n",
      "dtypes: int64(15)\n",
      "memory usage: 3.7 MB\n"
     ]
    }
   ],
   "source": [
    "from_string_to_int(\"workclass\", data)\n",
    "from_string_to_int(\"education\", data)\n",
    "from_string_to_int(\"marital-status\", data)\n",
    "from_string_to_int(\"occupation\", data)\n",
    "from_string_to_int(\"relationship\", data)\n",
    "from_string_to_int(\"race\", data)\n",
    "from_string_to_int(\"sex\", data)\n",
    "from_string_to_int(\"native-country\", data)\n",
    "data.info()"
   ]
  },
  {
   "cell_type": "markdown",
   "id": "9c9d75d8-a313-4566-bcc5-9d54d66caa6f",
   "metadata": {},
   "source": [
    "## Separar los datos en features y target"
   ]
  },
  {
   "cell_type": "code",
   "execution_count": 7,
   "id": "4073b0f8-7aae-48d5-b60a-6878db6cbccd",
   "metadata": {},
   "outputs": [
    {
     "name": "stdout",
     "output_type": "stream",
     "text": [
      "       age  workclass  fnlwgt  education  education-num  marital-status  \\\n",
      "0       39          0   77516          0             13               0   \n",
      "1       50          1   83311          0             13               1   \n",
      "2       38          2  215646          1              9               2   \n",
      "3       53          2  234721          2              7               1   \n",
      "4       28          2  338409          0             13               1   \n",
      "...    ...        ...     ...        ...            ...             ...   \n",
      "32556   27          2  257302          6             12               1   \n",
      "32557   40          2  154374          1              9               1   \n",
      "32558   58          2  151910          1              9               6   \n",
      "32559   22          2  201490          1              9               0   \n",
      "32560   52          6  287927          1              9               1   \n",
      "\n",
      "       occupation  relationship  race  sex  capital-gain  capital-loss  \\\n",
      "0               0             0     0    0          2174             0   \n",
      "1               1             1     0    0             0             0   \n",
      "2               2             0     0    0             0             0   \n",
      "3               2             1     1    0             0             0   \n",
      "4               3             2     1    1             0             0   \n",
      "...           ...           ...   ...  ...           ...           ...   \n",
      "32556          10             2     0    1             0             0   \n",
      "32557           9             1     0    0             0             0   \n",
      "32558           0             4     0    1             0             0   \n",
      "32559           0             3     0    0             0             0   \n",
      "32560           1             2     0    1         15024             0   \n",
      "\n",
      "       hours-per-week  native-country  \n",
      "0                  40               0  \n",
      "1                  13               0  \n",
      "2                  40               0  \n",
      "3                  40               0  \n",
      "4                  40               1  \n",
      "...               ...             ...  \n",
      "32556              38               0  \n",
      "32557              40               0  \n",
      "32558              40               0  \n",
      "32559              20               0  \n",
      "32560              40               0  \n",
      "\n",
      "[32561 rows x 14 columns]\n",
      "0        0\n",
      "1        0\n",
      "2        0\n",
      "3        0\n",
      "4        0\n",
      "        ..\n",
      "32556    0\n",
      "32557    1\n",
      "32558    0\n",
      "32559    0\n",
      "32560    1\n",
      "Name: class, Length: 32561, dtype: int64\n"
     ]
    }
   ],
   "source": [
    "features = data.iloc[:,:-1]\n",
    "target = data.iloc[:,-1]\n",
    "print(features)\n",
    "print(target)"
   ]
  },
  {
   "cell_type": "markdown",
   "id": "61d4f511-8c20-41f7-985f-0cfa784e7e70",
   "metadata": {},
   "source": [
    "## Separar datos aleatoriamente en 70/30"
   ]
  },
  {
   "cell_type": "code",
   "execution_count": 11,
   "id": "1945c4fa-ff61-4520-830c-b06e8eeae885",
   "metadata": {},
   "outputs": [],
   "source": [
    "features_train, features_test, target_train, target_test = model_selection.train_test_split(features, target, test_size=0.3, random_state=777)"
   ]
  },
  {
   "cell_type": "markdown",
   "id": "47373968-a004-4620-b267-20119a6e1a86",
   "metadata": {},
   "source": [
    "## Entrenar"
   ]
  },
  {
   "cell_type": "code",
   "execution_count": 35,
   "id": "f13c2b7d-6afe-48f7-a8ed-7e1e10790748",
   "metadata": {},
   "outputs": [],
   "source": [
    "params = {\n",
    "'objective': 'binary:logistic',\n",
    "'max_depth': 2,\n",
    "'learning_rate': 1,\n",
    "'n_estimators': 5\n",
    "}\n",
    " \n",
    "model = XGBClassifier().fit(features_train, target_train)"
   ]
  },
  {
   "cell_type": "markdown",
   "id": "28ef76a9-6318-4478-9ed4-4a3a9cef0039",
   "metadata": {},
   "source": [
    "## Precisión"
   ]
  },
  {
   "cell_type": "code",
   "execution_count": 36,
   "id": "d0d98c37-1dd8-467c-980f-b08e49608255",
   "metadata": {},
   "outputs": [
    {
     "name": "stdout",
     "output_type": "stream",
     "text": [
      "Misclassified samples: 1217\n",
      "Accuracy: 0.88\n"
     ]
    }
   ],
   "source": [
    "target_pred = model.predict(features_test)\n",
    "\n",
    "count_misclassified = (target_test != target_pred).sum()\n",
    "print('Misclassified samples: {}'.format(count_misclassified))\n",
    "\n",
    "accuracy = metrics.accuracy_score(target_test, target_pred)\n",
    "print('Accuracy: {:.2f}'.format(accuracy))"
   ]
  },
  {
   "cell_type": "code",
   "execution_count": null,
   "id": "e89baab7-48e7-4003-90f7-3dc790e4871a",
   "metadata": {},
   "outputs": [],
   "source": []
  }
 ],
 "metadata": {
  "kernelspec": {
   "display_name": "Python 3 (ipykernel)",
   "language": "python",
   "name": "python3"
  },
  "language_info": {
   "codemirror_mode": {
    "name": "ipython",
    "version": 3
   },
   "file_extension": ".py",
   "mimetype": "text/x-python",
   "name": "python",
   "nbconvert_exporter": "python",
   "pygments_lexer": "ipython3",
   "version": "3.9.7"
  }
 },
 "nbformat": 4,
 "nbformat_minor": 5
}
